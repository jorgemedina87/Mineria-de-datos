{
 "cells": [
  {
   "cell_type": "markdown",
   "metadata": {},
   "source": [
    "# Exercise 6\n",
    "\n",
    "## SVM & Regularization\n",
    "\n",
    "\n",
    "For this homework we consider a set of observations on a number of red and white wine varieties involving their chemical properties and ranking by tasters. Wine industry shows a recent growth spurt as social drinking is on the rise. The price of wine depends on a rather abstract concept of wine appreciation by wine tasters, opinion among whom may have a high degree of variability. Pricing of wine depends on such a volatile factor to some extent. Another key factor in wine certification and quality assessment is physicochemical tests which are laboratory-based and takes into account factors like acidity, pH level, presence of sugar and other chemical properties. For the wine market, it would be of interest if human quality of tasting can be related to the chemical properties of wine so that certification and quality assessment and assurance process is more controlled.\n",
    "\n",
    "Two datasets are available of which one dataset is on red wine and have 1599 different varieties and the other is on white wine and have 4898 varieties. All wines are produced in a particular area of Portugal. Data are collected on 12 different properties of the wines one of which is Quality, based on sensory data, and the rest are on chemical properties of the wines including density, acidity, alcohol content etc. All chemical properties of wines are continuous variables. Quality is an ordinal variable with possible ranking from 1 (worst) to 10 (best). Each variety of wine is tasted by three independent tasters and the final rank assigned is the median rank given by the tasters.\n",
    "\n",
    "A predictive model developed on this data is expected to provide guidance to vineyards regarding quality and price expected on their produce without heavy reliance on volatility of wine tasters."
   ]
  },
  {
   "cell_type": "code",
   "execution_count": 1,
   "metadata": {},
   "outputs": [],
   "source": [
    "import pandas as pd\n",
    "import matplotlib.pyplot as plt\n",
    "import numpy as np"
   ]
  },
  {
   "cell_type": "code",
   "execution_count": 2,
   "metadata": {},
   "outputs": [],
   "source": [
    "data_r = pd.read_csv('https://github.com/albahnsen/PracticalMachineLearningClass/raw/master/datasets/Wine_data_red.csv')\n",
    "data_w = pd.read_csv('https://github.com/albahnsen/PracticalMachineLearningClass/raw/master/datasets/Wine_data_white.csv')"
   ]
  },
  {
   "cell_type": "code",
   "execution_count": 3,
   "metadata": {},
   "outputs": [
    {
     "data": {
      "text/html": [
       "<div>\n",
       "<style scoped>\n",
       "    .dataframe tbody tr th:only-of-type {\n",
       "        vertical-align: middle;\n",
       "    }\n",
       "\n",
       "    .dataframe tbody tr th {\n",
       "        vertical-align: top;\n",
       "    }\n",
       "\n",
       "    .dataframe thead th {\n",
       "        text-align: right;\n",
       "    }\n",
       "</style>\n",
       "<table border=\"1\" class=\"dataframe\">\n",
       "  <thead>\n",
       "    <tr style=\"text-align: right;\">\n",
       "      <th></th>\n",
       "      <th>fixed acidity</th>\n",
       "      <th>volatile acidity</th>\n",
       "      <th>citric acid</th>\n",
       "      <th>residual sugar</th>\n",
       "      <th>chlorides</th>\n",
       "      <th>free sulfur dioxide</th>\n",
       "      <th>total sulfur dioxide</th>\n",
       "      <th>density</th>\n",
       "      <th>pH</th>\n",
       "      <th>sulphates</th>\n",
       "      <th>alcohol</th>\n",
       "      <th>quality</th>\n",
       "      <th>type</th>\n",
       "    </tr>\n",
       "  </thead>\n",
       "  <tbody>\n",
       "    <tr>\n",
       "      <th>1594</th>\n",
       "      <td>7.0</td>\n",
       "      <td>0.29</td>\n",
       "      <td>0.49</td>\n",
       "      <td>3.8</td>\n",
       "      <td>0.047</td>\n",
       "      <td>37.0</td>\n",
       "      <td>136.0</td>\n",
       "      <td>0.99380</td>\n",
       "      <td>2.95</td>\n",
       "      <td>0.40</td>\n",
       "      <td>9.4</td>\n",
       "      <td>6</td>\n",
       "      <td>white</td>\n",
       "    </tr>\n",
       "    <tr>\n",
       "      <th>2141</th>\n",
       "      <td>7.7</td>\n",
       "      <td>0.28</td>\n",
       "      <td>0.35</td>\n",
       "      <td>15.3</td>\n",
       "      <td>0.056</td>\n",
       "      <td>31.0</td>\n",
       "      <td>117.0</td>\n",
       "      <td>0.99980</td>\n",
       "      <td>3.27</td>\n",
       "      <td>0.50</td>\n",
       "      <td>9.6</td>\n",
       "      <td>5</td>\n",
       "      <td>white</td>\n",
       "    </tr>\n",
       "    <tr>\n",
       "      <th>3728</th>\n",
       "      <td>6.2</td>\n",
       "      <td>0.20</td>\n",
       "      <td>0.33</td>\n",
       "      <td>5.4</td>\n",
       "      <td>0.028</td>\n",
       "      <td>21.0</td>\n",
       "      <td>75.0</td>\n",
       "      <td>0.99012</td>\n",
       "      <td>3.36</td>\n",
       "      <td>0.41</td>\n",
       "      <td>13.5</td>\n",
       "      <td>7</td>\n",
       "      <td>white</td>\n",
       "    </tr>\n",
       "    <tr>\n",
       "      <th>2858</th>\n",
       "      <td>6.9</td>\n",
       "      <td>0.33</td>\n",
       "      <td>0.26</td>\n",
       "      <td>5.0</td>\n",
       "      <td>0.027</td>\n",
       "      <td>46.0</td>\n",
       "      <td>143.0</td>\n",
       "      <td>0.99240</td>\n",
       "      <td>3.25</td>\n",
       "      <td>0.43</td>\n",
       "      <td>11.2</td>\n",
       "      <td>7</td>\n",
       "      <td>white</td>\n",
       "    </tr>\n",
       "    <tr>\n",
       "      <th>6029</th>\n",
       "      <td>5.9</td>\n",
       "      <td>0.19</td>\n",
       "      <td>0.21</td>\n",
       "      <td>1.7</td>\n",
       "      <td>0.045</td>\n",
       "      <td>57.0</td>\n",
       "      <td>135.0</td>\n",
       "      <td>0.99341</td>\n",
       "      <td>3.32</td>\n",
       "      <td>0.44</td>\n",
       "      <td>9.5</td>\n",
       "      <td>5</td>\n",
       "      <td>red</td>\n",
       "    </tr>\n",
       "  </tbody>\n",
       "</table>\n",
       "</div>"
      ],
      "text/plain": [
       "      fixed acidity  volatile acidity  citric acid  residual sugar  chlorides  \\\n",
       "1594            7.0              0.29         0.49             3.8      0.047   \n",
       "2141            7.7              0.28         0.35            15.3      0.056   \n",
       "3728            6.2              0.20         0.33             5.4      0.028   \n",
       "2858            6.9              0.33         0.26             5.0      0.027   \n",
       "6029            5.9              0.19         0.21             1.7      0.045   \n",
       "\n",
       "      free sulfur dioxide  total sulfur dioxide  density    pH  sulphates  \\\n",
       "1594                 37.0                 136.0  0.99380  2.95       0.40   \n",
       "2141                 31.0                 117.0  0.99980  3.27       0.50   \n",
       "3728                 21.0                  75.0  0.99012  3.36       0.41   \n",
       "2858                 46.0                 143.0  0.99240  3.25       0.43   \n",
       "6029                 57.0                 135.0  0.99341  3.32       0.44   \n",
       "\n",
       "      alcohol  quality   type  \n",
       "1594      9.4        6  white  \n",
       "2141      9.6        5  white  \n",
       "3728     13.5        7  white  \n",
       "2858     11.2        7  white  \n",
       "6029      9.5        5    red  "
      ]
     },
     "execution_count": 3,
     "metadata": {},
     "output_type": "execute_result"
    }
   ],
   "source": [
    "data = data_w.assign(type = 'white')\n",
    "\n",
    "data = data.append(data_r.assign(type = 'red'), ignore_index=True)\n",
    "data.sample(5)"
   ]
  },
  {
   "cell_type": "markdown",
   "metadata": {},
   "source": [
    "# Exercise 6.1\n",
    "\n",
    "Show the frecuency table of the quality by type of wine"
   ]
  },
  {
   "cell_type": "code",
   "execution_count": 4,
   "metadata": {},
   "outputs": [
    {
     "data": {
      "image/png": "[encoded data removed]",
      "text/plain": [
       "<Figure size 432x288 with 1 Axes>"
      ]
     },
     "metadata": {
      "needs_background": "light"
     },
     "output_type": "display_data"
    }
   ],
   "source": [
    "%matplotlib inline\n",
    "import matplotlib.pyplot as plt\n",
    "\n",
    "#sns.set()  # use Seaborn styles\n",
    "data.pivot_table(values='fixed acidity', index='quality', columns='type', aggfunc='count').plot()\n",
    "plt.ylabel('total type wine');\n"
   ]
  },
  {
   "cell_type": "code",
   "execution_count": 5,
   "metadata": {
    "scrolled": false
   },
   "outputs": [
    {
     "data": {
      "text/html": [
       "<div>\n",
       "<style scoped>\n",
       "    .dataframe tbody tr th:only-of-type {\n",
       "        vertical-align: middle;\n",
       "    }\n",
       "\n",
       "    .dataframe tbody tr th {\n",
       "        vertical-align: top;\n",
       "    }\n",
       "\n",
       "    .dataframe thead th {\n",
       "        text-align: right;\n",
       "    }\n",
       "</style>\n",
       "<table border=\"1\" class=\"dataframe\">\n",
       "  <thead>\n",
       "    <tr style=\"text-align: right;\">\n",
       "      <th>type</th>\n",
       "      <th>red</th>\n",
       "      <th>white</th>\n",
       "    </tr>\n",
       "    <tr>\n",
       "      <th>quality</th>\n",
       "      <th></th>\n",
       "      <th></th>\n",
       "    </tr>\n",
       "  </thead>\n",
       "  <tbody>\n",
       "    <tr>\n",
       "      <th>3</th>\n",
       "      <td>10.0</td>\n",
       "      <td>20.0</td>\n",
       "    </tr>\n",
       "    <tr>\n",
       "      <th>4</th>\n",
       "      <td>53.0</td>\n",
       "      <td>163.0</td>\n",
       "    </tr>\n",
       "    <tr>\n",
       "      <th>5</th>\n",
       "      <td>681.0</td>\n",
       "      <td>1457.0</td>\n",
       "    </tr>\n",
       "    <tr>\n",
       "      <th>6</th>\n",
       "      <td>638.0</td>\n",
       "      <td>2198.0</td>\n",
       "    </tr>\n",
       "    <tr>\n",
       "      <th>7</th>\n",
       "      <td>199.0</td>\n",
       "      <td>880.0</td>\n",
       "    </tr>\n",
       "    <tr>\n",
       "      <th>8</th>\n",
       "      <td>18.0</td>\n",
       "      <td>175.0</td>\n",
       "    </tr>\n",
       "    <tr>\n",
       "      <th>9</th>\n",
       "      <td>NaN</td>\n",
       "      <td>5.0</td>\n",
       "    </tr>\n",
       "  </tbody>\n",
       "</table>\n",
       "</div>"
      ],
      "text/plain": [
       "type       red   white\n",
       "quality               \n",
       "3         10.0    20.0\n",
       "4         53.0   163.0\n",
       "5        681.0  1457.0\n",
       "6        638.0  2198.0\n",
       "7        199.0   880.0\n",
       "8         18.0   175.0\n",
       "9          NaN     5.0"
      ]
     },
     "execution_count": 5,
     "metadata": {},
     "output_type": "execute_result"
    }
   ],
   "source": [
    "data.pivot_table(values='fixed acidity', index='quality',columns='type', aggfunc='count')"
   ]
  },
  {
   "cell_type": "markdown",
   "metadata": {},
   "source": [
    "Como se puede observar en la grafica anterio y la tabla. donde se concentra la mayor cualidad del vino rojo y del vino blanco es el la categoria 6."
   ]
  },
  {
   "cell_type": "code",
   "execution_count": 6,
   "metadata": {},
   "outputs": [],
   "source": [
    "data['quality_bool']=data['quality'] > 6"
   ]
  },
  {
   "cell_type": "code",
   "execution_count": 7,
   "metadata": {},
   "outputs": [],
   "source": [
    "datared=data[data['type']=='red']\n",
    "datawhite=data[data['type']=='white']\n"
   ]
  },
  {
   "cell_type": "code",
   "execution_count": 8,
   "metadata": {
    "scrolled": false
   },
   "outputs": [
    {
     "data": {
      "text/html": [
       "<div>\n",
       "<style scoped>\n",
       "    .dataframe tbody tr th:only-of-type {\n",
       "        vertical-align: middle;\n",
       "    }\n",
       "\n",
       "    .dataframe tbody tr th {\n",
       "        vertical-align: top;\n",
       "    }\n",
       "\n",
       "    .dataframe thead th {\n",
       "        text-align: right;\n",
       "    }\n",
       "</style>\n",
       "<table border=\"1\" class=\"dataframe\">\n",
       "  <thead>\n",
       "    <tr style=\"text-align: right;\">\n",
       "      <th></th>\n",
       "      <th>fixed acidity</th>\n",
       "      <th>volatile acidity</th>\n",
       "      <th>citric acid</th>\n",
       "      <th>residual sugar</th>\n",
       "      <th>chlorides</th>\n",
       "      <th>free sulfur dioxide</th>\n",
       "      <th>total sulfur dioxide</th>\n",
       "      <th>density</th>\n",
       "      <th>pH</th>\n",
       "      <th>sulphates</th>\n",
       "      <th>alcohol</th>\n",
       "      <th>quality</th>\n",
       "      <th>type</th>\n",
       "      <th>quality_bool</th>\n",
       "    </tr>\n",
       "  </thead>\n",
       "  <tbody>\n",
       "    <tr>\n",
       "      <th>4898</th>\n",
       "      <td>7.4</td>\n",
       "      <td>0.70</td>\n",
       "      <td>0.00</td>\n",
       "      <td>1.9</td>\n",
       "      <td>0.076</td>\n",
       "      <td>11.0</td>\n",
       "      <td>34.0</td>\n",
       "      <td>0.9978</td>\n",
       "      <td>3.51</td>\n",
       "      <td>0.56</td>\n",
       "      <td>9.4</td>\n",
       "      <td>5</td>\n",
       "      <td>red</td>\n",
       "      <td>False</td>\n",
       "    </tr>\n",
       "    <tr>\n",
       "      <th>4899</th>\n",
       "      <td>7.8</td>\n",
       "      <td>0.88</td>\n",
       "      <td>0.00</td>\n",
       "      <td>2.6</td>\n",
       "      <td>0.098</td>\n",
       "      <td>25.0</td>\n",
       "      <td>67.0</td>\n",
       "      <td>0.9968</td>\n",
       "      <td>3.20</td>\n",
       "      <td>0.68</td>\n",
       "      <td>9.8</td>\n",
       "      <td>5</td>\n",
       "      <td>red</td>\n",
       "      <td>False</td>\n",
       "    </tr>\n",
       "    <tr>\n",
       "      <th>4900</th>\n",
       "      <td>7.8</td>\n",
       "      <td>0.76</td>\n",
       "      <td>0.04</td>\n",
       "      <td>2.3</td>\n",
       "      <td>0.092</td>\n",
       "      <td>15.0</td>\n",
       "      <td>54.0</td>\n",
       "      <td>0.9970</td>\n",
       "      <td>3.26</td>\n",
       "      <td>0.65</td>\n",
       "      <td>9.8</td>\n",
       "      <td>5</td>\n",
       "      <td>red</td>\n",
       "      <td>False</td>\n",
       "    </tr>\n",
       "    <tr>\n",
       "      <th>4901</th>\n",
       "      <td>11.2</td>\n",
       "      <td>0.28</td>\n",
       "      <td>0.56</td>\n",
       "      <td>1.9</td>\n",
       "      <td>0.075</td>\n",
       "      <td>17.0</td>\n",
       "      <td>60.0</td>\n",
       "      <td>0.9980</td>\n",
       "      <td>3.16</td>\n",
       "      <td>0.58</td>\n",
       "      <td>9.8</td>\n",
       "      <td>6</td>\n",
       "      <td>red</td>\n",
       "      <td>False</td>\n",
       "    </tr>\n",
       "    <tr>\n",
       "      <th>4902</th>\n",
       "      <td>7.4</td>\n",
       "      <td>0.70</td>\n",
       "      <td>0.00</td>\n",
       "      <td>1.9</td>\n",
       "      <td>0.076</td>\n",
       "      <td>11.0</td>\n",
       "      <td>34.0</td>\n",
       "      <td>0.9978</td>\n",
       "      <td>3.51</td>\n",
       "      <td>0.56</td>\n",
       "      <td>9.4</td>\n",
       "      <td>5</td>\n",
       "      <td>red</td>\n",
       "      <td>False</td>\n",
       "    </tr>\n",
       "  </tbody>\n",
       "</table>\n",
       "</div>"
      ],
      "text/plain": [
       "      fixed acidity  volatile acidity  citric acid  residual sugar  chlorides  \\\n",
       "4898            7.4              0.70         0.00             1.9      0.076   \n",
       "4899            7.8              0.88         0.00             2.6      0.098   \n",
       "4900            7.8              0.76         0.04             2.3      0.092   \n",
       "4901           11.2              0.28         0.56             1.9      0.075   \n",
       "4902            7.4              0.70         0.00             1.9      0.076   \n",
       "\n",
       "      free sulfur dioxide  total sulfur dioxide  density    pH  sulphates  \\\n",
       "4898                 11.0                  34.0   0.9978  3.51       0.56   \n",
       "4899                 25.0                  67.0   0.9968  3.20       0.68   \n",
       "4900                 15.0                  54.0   0.9970  3.26       0.65   \n",
       "4901                 17.0                  60.0   0.9980  3.16       0.58   \n",
       "4902                 11.0                  34.0   0.9978  3.51       0.56   \n",
       "\n",
       "      alcohol  quality type  quality_bool  \n",
       "4898      9.4        5  red         False  \n",
       "4899      9.8        5  red         False  \n",
       "4900      9.8        5  red         False  \n",
       "4901      9.8        6  red         False  \n",
       "4902      9.4        5  red         False  "
      ]
     },
     "execution_count": 8,
     "metadata": {},
     "output_type": "execute_result"
    }
   ],
   "source": [
    "datared.head()"
   ]
  },
  {
   "cell_type": "code",
   "execution_count": 9,
   "metadata": {},
   "outputs": [
    {
     "data": {
      "text/html": [
       "<div>\n",
       "<style scoped>\n",
       "    .dataframe tbody tr th:only-of-type {\n",
       "        vertical-align: middle;\n",
       "    }\n",
       "\n",
       "    .dataframe tbody tr th {\n",
       "        vertical-align: top;\n",
       "    }\n",
       "\n",
       "    .dataframe thead th {\n",
       "        text-align: right;\n",
       "    }\n",
       "</style>\n",
       "<table border=\"1\" class=\"dataframe\">\n",
       "  <thead>\n",
       "    <tr style=\"text-align: right;\">\n",
       "      <th></th>\n",
       "      <th>fixed acidity</th>\n",
       "      <th>volatile acidity</th>\n",
       "      <th>citric acid</th>\n",
       "      <th>residual sugar</th>\n",
       "      <th>chlorides</th>\n",
       "      <th>free sulfur dioxide</th>\n",
       "      <th>total sulfur dioxide</th>\n",
       "      <th>density</th>\n",
       "      <th>pH</th>\n",
       "      <th>sulphates</th>\n",
       "      <th>alcohol</th>\n",
       "      <th>quality</th>\n",
       "      <th>type</th>\n",
       "      <th>quality_bool</th>\n",
       "    </tr>\n",
       "  </thead>\n",
       "  <tbody>\n",
       "    <tr>\n",
       "      <th>0</th>\n",
       "      <td>7.0</td>\n",
       "      <td>0.27</td>\n",
       "      <td>0.36</td>\n",
       "      <td>20.7</td>\n",
       "      <td>0.045</td>\n",
       "      <td>45.0</td>\n",
       "      <td>170.0</td>\n",
       "      <td>1.0010</td>\n",
       "      <td>3.00</td>\n",
       "      <td>0.45</td>\n",
       "      <td>8.8</td>\n",
       "      <td>6</td>\n",
       "      <td>white</td>\n",
       "      <td>False</td>\n",
       "    </tr>\n",
       "    <tr>\n",
       "      <th>1</th>\n",
       "      <td>6.3</td>\n",
       "      <td>0.30</td>\n",
       "      <td>0.34</td>\n",
       "      <td>1.6</td>\n",
       "      <td>0.049</td>\n",
       "      <td>14.0</td>\n",
       "      <td>132.0</td>\n",
       "      <td>0.9940</td>\n",
       "      <td>3.30</td>\n",
       "      <td>0.49</td>\n",
       "      <td>9.5</td>\n",
       "      <td>6</td>\n",
       "      <td>white</td>\n",
       "      <td>False</td>\n",
       "    </tr>\n",
       "    <tr>\n",
       "      <th>2</th>\n",
       "      <td>8.1</td>\n",
       "      <td>0.28</td>\n",
       "      <td>0.40</td>\n",
       "      <td>6.9</td>\n",
       "      <td>0.050</td>\n",
       "      <td>30.0</td>\n",
       "      <td>97.0</td>\n",
       "      <td>0.9951</td>\n",
       "      <td>3.26</td>\n",
       "      <td>0.44</td>\n",
       "      <td>10.1</td>\n",
       "      <td>6</td>\n",
       "      <td>white</td>\n",
       "      <td>False</td>\n",
       "    </tr>\n",
       "    <tr>\n",
       "      <th>3</th>\n",
       "      <td>7.2</td>\n",
       "      <td>0.23</td>\n",
       "      <td>0.32</td>\n",
       "      <td>8.5</td>\n",
       "      <td>0.058</td>\n",
       "      <td>47.0</td>\n",
       "      <td>186.0</td>\n",
       "      <td>0.9956</td>\n",
       "      <td>3.19</td>\n",
       "      <td>0.40</td>\n",
       "      <td>9.9</td>\n",
       "      <td>6</td>\n",
       "      <td>white</td>\n",
       "      <td>False</td>\n",
       "    </tr>\n",
       "    <tr>\n",
       "      <th>4</th>\n",
       "      <td>7.2</td>\n",
       "      <td>0.23</td>\n",
       "      <td>0.32</td>\n",
       "      <td>8.5</td>\n",
       "      <td>0.058</td>\n",
       "      <td>47.0</td>\n",
       "      <td>186.0</td>\n",
       "      <td>0.9956</td>\n",
       "      <td>3.19</td>\n",
       "      <td>0.40</td>\n",
       "      <td>9.9</td>\n",
       "      <td>6</td>\n",
       "      <td>white</td>\n",
       "      <td>False</td>\n",
       "    </tr>\n",
       "  </tbody>\n",
       "</table>\n",
       "</div>"
      ],
      "text/plain": [
       "   fixed acidity  volatile acidity  citric acid  residual sugar  chlorides  \\\n",
       "0            7.0              0.27         0.36            20.7      0.045   \n",
       "1            6.3              0.30         0.34             1.6      0.049   \n",
       "2            8.1              0.28         0.40             6.9      0.050   \n",
       "3            7.2              0.23         0.32             8.5      0.058   \n",
       "4            7.2              0.23         0.32             8.5      0.058   \n",
       "\n",
       "   free sulfur dioxide  total sulfur dioxide  density    pH  sulphates  \\\n",
       "0                 45.0                 170.0   1.0010  3.00       0.45   \n",
       "1                 14.0                 132.0   0.9940  3.30       0.49   \n",
       "2                 30.0                  97.0   0.9951  3.26       0.44   \n",
       "3                 47.0                 186.0   0.9956  3.19       0.40   \n",
       "4                 47.0                 186.0   0.9956  3.19       0.40   \n",
       "\n",
       "   alcohol  quality   type  quality_bool  \n",
       "0      8.8        6  white         False  \n",
       "1      9.5        6  white         False  \n",
       "2     10.1        6  white         False  \n",
       "3      9.9        6  white         False  \n",
       "4      9.9        6  white         False  "
      ]
     },
     "execution_count": 9,
     "metadata": {},
     "output_type": "execute_result"
    }
   ],
   "source": [
    "datawhite.head()"
   ]
  },
  {
   "cell_type": "markdown",
   "metadata": {},
   "source": [
    "# SVM"
   ]
  },
  {
   "cell_type": "markdown",
   "metadata": {},
   "source": [
    "# Exercise 6.2\n",
    "\n",
    "* Standarized the features (not the quality)\n",
    "* Create a binary target for each type of wine\n",
    "* Create two Linear SVM's for the white and red wines, repectively.\n"
   ]
  },
  {
   "cell_type": "code",
   "execution_count": 10,
   "metadata": {
    "scrolled": true
   },
   "outputs": [
    {
     "data": {
      "text/plain": [
       "(array([6.85478767e+00, 2.78241119e-01, 3.34191507e-01, 6.39141486e+00,\n",
       "        4.57723561e-02, 3.53080849e+01, 1.38360657e+02, 9.94027376e-01,\n",
       "        3.18826664e+00, 4.89846876e-01, 1.05142670e+01]),\n",
       " array([8.43782079e-01, 1.00784259e-01, 1.21007450e-01, 5.07153999e+00,\n",
       "        2.18457377e-02, 1.70054011e+01, 4.24937260e+01, 2.99060158e-03,\n",
       "        1.50985184e-01, 1.14114183e-01, 1.23049494e+00]))"
      ]
     },
     "execution_count": 10,
     "metadata": {},
     "output_type": "execute_result"
    }
   ],
   "source": [
    "# Standarized the features (not the quality), this standardized with the methods Standard scaler\n",
    "\n",
    "from sklearn.preprocessing import StandardScaler\n",
    "\n",
    "x_red=datared[['fixed acidity', 'volatile acidity','citric acid','residual sugar',\n",
    "              'chlorides','free sulfur dioxide','total sulfur dioxide','density',\n",
    "              'pH','sulphates','alcohol']].values\n",
    "\n",
    "\n",
    "\n",
    "x_white=datawhite[['fixed acidity', 'volatile acidity','citric acid','residual sugar',\n",
    "              'chlorides','free sulfur dioxide','total sulfur dioxide','density',\n",
    "              'pH','sulphates','alcohol']].values\n",
    "\n",
    "ss_red = StandardScaler(with_mean=True, with_std=True)\n",
    "ss_red.fit(x_red.astype(np.float))\n",
    "X_red = ss_red.transform(x_red.astype(np.float))\n",
    "ss_red.mean_, ss_red.scale_\n",
    "\n",
    "\n",
    "ss_white = StandardScaler(with_mean=True, with_std=True)\n",
    "ss_white.fit(x_white.astype(np.float))\n",
    "X_white = ss_white.transform(x_white.astype(np.float))\n",
    "ss_white.mean_, ss_white.scale_\n",
    "\n"
   ]
  },
  {
   "cell_type": "code",
   "execution_count": 11,
   "metadata": {
    "scrolled": true
   },
   "outputs": [
    {
     "data": {
      "text/plain": [
       "(1599, 11)"
      ]
     },
     "execution_count": 11,
     "metadata": {},
     "output_type": "execute_result"
    }
   ],
   "source": [
    "X_red.shape"
   ]
  },
  {
   "cell_type": "code",
   "execution_count": 12,
   "metadata": {},
   "outputs": [
    {
     "data": {
      "text/plain": [
       "(4898, 11)"
      ]
     },
     "execution_count": 12,
     "metadata": {},
     "output_type": "execute_result"
    }
   ],
   "source": [
    "X_white.shape"
   ]
  },
  {
   "cell_type": "code",
   "execution_count": 13,
   "metadata": {},
   "outputs": [],
   "source": [
    "y_red= pd.get_dummies(datared,columns=[\"quality_bool\"])\n",
    "y_red_target=y_red[['quality_bool_True']].values\n",
    "\n",
    "y_white= pd.get_dummies(datawhite,columns=[\"quality_bool\"])\n",
    "y_white_target=y_white[['quality_bool_True']].values"
   ]
  },
  {
   "cell_type": "code",
   "execution_count": 14,
   "metadata": {},
   "outputs": [],
   "source": [
    "from sklearn.model_selection import train_test_split\n",
    "\n",
    "# split.\n",
    "X_red_train, X_red_test, y_red_train, y_red_test = train_test_split(X_red, y_red_target, test_size=0.3,random_state=109)\n",
    "# 70% training and 30% test\n",
    "X_white_train, X_white_test, y_white_train, y_white_test = train_test_split(X_white, y_white_target, test_size=0.3,random_state=109)\n"
   ]
  },
  {
   "cell_type": "code",
   "execution_count": 15,
   "metadata": {},
   "outputs": [
    {
     "data": {
      "text/plain": [
       "(480, 11)"
      ]
     },
     "execution_count": 15,
     "metadata": {},
     "output_type": "execute_result"
    }
   ],
   "source": [
    "X_red_test.shape"
   ]
  },
  {
   "cell_type": "code",
   "execution_count": 16,
   "metadata": {},
   "outputs": [],
   "source": [
    "import warnings\n",
    "warnings.filterwarnings('ignore')"
   ]
  },
  {
   "cell_type": "code",
   "execution_count": 17,
   "metadata": {},
   "outputs": [],
   "source": [
    "#Import svm model\n",
    "from sklearn import svm\n",
    "\n",
    "#Create a svm Classifier\n",
    "clf_red = svm.SVC(kernel='linear') # Linear Kernel\n",
    "\n",
    "#Train the model using the training sets\n",
    "clf_red.fit(X_red_train, y_red_train)\n",
    "\n",
    "\n",
    "#Predict the response for test dataset\n",
    "y_red_pred = clf_red.predict(X_red_test)\n"
   ]
  },
  {
   "cell_type": "code",
   "execution_count": 18,
   "metadata": {},
   "outputs": [],
   "source": [
    "#Import svm model\n",
    "from sklearn import svm\n",
    "\n",
    "#Create a svm Classifier\n",
    "clf_white = svm.SVC(kernel='linear') # Linear Kernel\n",
    "\n",
    "#Train the model using the training sets\n",
    "clf_white.fit(X_white_train, y_white_train)\n",
    "\n",
    "\n",
    "#Predict the response for test dataset\n",
    "y_white_pred = clf_white.predict(X_white_test)\n",
    "\n"
   ]
  },
  {
   "cell_type": "code",
   "execution_count": 19,
   "metadata": {},
   "outputs": [
    {
     "name": "stdout",
     "output_type": "stream",
     "text": [
      "Accuracy: 0.8583333333333333\n",
      "Accuracy: 0.7829931972789116\n"
     ]
    }
   ],
   "source": [
    "#Import scikit-learn metrics module for accuracy calculation\n",
    "from sklearn import metrics\n",
    "\n",
    "# Model Accuracy: how often is the classifier correct?\n",
    "print(\"Accuracy:\",metrics.accuracy_score(y_red_pred ,y_red_test))\n",
    "print(\"Accuracy:\",metrics.accuracy_score(y_white_pred,y_white_test))"
   ]
  },
  {
   "cell_type": "markdown",
   "metadata": {},
   "source": [
    "# Exercise 6.3\n",
    "\n",
    "Test the two SVM's using the different kernels (‘poly’, ‘rbf’, ‘sigmoid’)\n"
   ]
  },
  {
   "cell_type": "code",
   "execution_count": 20,
   "metadata": {},
   "outputs": [],
   "source": [
    "#Import svm model usen POLY\n",
    "from sklearn import svm\n",
    "\n",
    "#Create a svm Classifier\n",
    "clf_red_poly = svm.SVC(kernel='poly') # Poly Kernel\n",
    "\n",
    "#Train the model using the training sets\n",
    "clf_red_poly.fit(X_red_train, y_red_train)\n",
    "\n",
    "\n",
    "#Predict the response for test dataset\n",
    "y_red_pred_poly  = clf_red_poly.predict(X_red_test)"
   ]
  },
  {
   "cell_type": "code",
   "execution_count": 21,
   "metadata": {},
   "outputs": [],
   "source": [
    "#Import svm model usen POLY\n",
    "from sklearn import svm\n",
    "\n",
    "#Create a svm Classifier\n",
    "clf_white_poly = svm.SVC(kernel='poly') # Poly Kernel\n",
    "\n",
    "#Train the model using the training sets\n",
    "clf_white_poly.fit(X_white_train, y_white_train)\n",
    "\n",
    "\n",
    "#Predict the response for test dataset\n",
    "y_white_pred_poly  = clf_white_poly.predict(X_white_test)"
   ]
  },
  {
   "cell_type": "code",
   "execution_count": 22,
   "metadata": {},
   "outputs": [],
   "source": [
    "#Import svm model  usen RBF\n",
    "from sklearn import svm\n",
    "\n",
    "#Create a svm Classifier\n",
    "clf_red_rbf  = svm.SVC(kernel='rbf') # RBF Kernel\n",
    "\n",
    "#Train the model using the training sets\n",
    "clf_red_rbf.fit(X_red_train, y_red_train)\n",
    "\n",
    "\n",
    "#Predict the response for test dataset\n",
    "y_red_pred_rbf = clf_red_rbf.predict(X_red_test)"
   ]
  },
  {
   "cell_type": "code",
   "execution_count": 23,
   "metadata": {},
   "outputs": [],
   "source": [
    "#Import svm model  usen RBF\n",
    "from sklearn import svm\n",
    "\n",
    "#Create a svm Classifier\n",
    "clf_white_rbf  = svm.SVC(kernel='rbf') # RBF Kernel\n",
    "\n",
    "#Train the model using the training sets\n",
    "clf_white_rbf.fit(X_white_train, y_white_train)\n",
    "\n",
    "\n",
    "#Predict the response for test dataset\n",
    "y_white_pred_rbf = clf_white_rbf.predict(X_white_test)"
   ]
  },
  {
   "cell_type": "code",
   "execution_count": 24,
   "metadata": {},
   "outputs": [],
   "source": [
    "#Import svm model  usen RBF\n",
    "from sklearn import svm\n",
    "\n",
    "#Create a svm Classifier\n",
    "clf_red_sigmoid  = svm.SVC(kernel='sigmoid') # RBF Kernel\n",
    "\n",
    "#Train the model using the training sets\n",
    "clf_red_sigmoid.fit(X_red_train, y_red_train)\n",
    "\n",
    "\n",
    "#Predict the response for test dataset\n",
    "y_red_pred_sigmoid = clf_red_sigmoid.predict(X_red_test)"
   ]
  },
  {
   "cell_type": "code",
   "execution_count": 25,
   "metadata": {},
   "outputs": [],
   "source": [
    "#Import svm model  usen RBF\n",
    "from sklearn import svm\n",
    "\n",
    "#Create a svm Classifier\n",
    "clf_white_sigmoid  = svm.SVC(kernel='sigmoid') # RBF Kernel\n",
    "\n",
    "#Train the model using the training sets\n",
    "clf_white_sigmoid.fit(X_white_train, y_white_train)\n",
    "\n",
    "\n",
    "#Predict the response for test dataset\n",
    "y_white_pred_sigmoid = clf_white_sigmoid.predict(X_white_test)"
   ]
  },
  {
   "cell_type": "code",
   "execution_count": 26,
   "metadata": {},
   "outputs": [
    {
     "name": "stdout",
     "output_type": "stream",
     "text": [
      "Accuracy Poly: 0.86875\n",
      "Accuracy rbf: 0.8770833333333333\n",
      "Accuracy Sigmoid: 0.8229166666666666\n",
      "Accuracy Poly: 0.8020408163265306\n",
      "Accuracy rbf: 0.819047619047619\n",
      "Accuracy Sigmoid: 0.7224489795918367\n"
     ]
    }
   ],
   "source": [
    "#Import scikit-learn metrics module for accuracy calculation\n",
    "from sklearn import metrics\n",
    "\n",
    "# Model Accuracy: how often is the classifier correct?\n",
    "print(\"Accuracy Poly:\",metrics.accuracy_score(y_red_pred_poly ,y_red_test))\n",
    "print(\"Accuracy rbf:\",metrics.accuracy_score(y_red_pred_rbf,y_red_test))\n",
    "print(\"Accuracy Sigmoid:\",metrics.accuracy_score(y_red_pred_sigmoid,y_red_test))\n",
    "\n",
    "print(\"Accuracy Poly:\",metrics.accuracy_score(y_white_pred_poly ,y_white_test))\n",
    "print(\"Accuracy rbf:\",metrics.accuracy_score(y_white_pred_rbf,y_white_test))\n",
    "print(\"Accuracy Sigmoid:\",metrics.accuracy_score(y_white_pred_sigmoid,y_white_test))"
   ]
  },
  {
   "cell_type": "markdown",
   "metadata": {},
   "source": [
    "# Exercise 6.4\n",
    "Using the best SVM find the parameters that gives the best performance\n",
    "\n",
    "\n",
    "'C': [0.1, 1, 10, 100, 1000], 'gamma': [0.01, 0.001, 0.0001]"
   ]
  },
  {
   "cell_type": "code",
   "execution_count": 27,
   "metadata": {},
   "outputs": [
    {
     "name": "stdout",
     "output_type": "stream",
     "text": [
      "The best parameters are {'C': 1000, 'gamma': 0.001} with a score of 0.88\n"
     ]
    },
    {
     "data": {
      "image/png": "[encoded data removed]",
      "text/plain": [
       "<Figure size 576x432 with 2 Axes>"
      ]
     },
     "metadata": {
      "needs_background": "light"
     },
     "output_type": "display_data"
    }
   ],
   "source": [
    "\n",
    "import numpy as np\n",
    "import matplotlib.pyplot as plt\n",
    "from matplotlib.colors import Normalize\n",
    "\n",
    "from sklearn.svm import SVC\n",
    "from sklearn.preprocessing import StandardScaler\n",
    "from sklearn.model_selection import StratifiedShuffleSplit\n",
    "from sklearn.model_selection import GridSearchCV\n",
    "\n",
    "\n",
    "# Utility function to move the midpoint of a colormap to be around\n",
    "# the values of interest.\n",
    "\n",
    "class MidpointNormalize(Normalize):\n",
    "\n",
    "    def __init__(self, vmin=None, vmax=None, midpoint=None, clip=False):\n",
    "        self.midpoint = midpoint\n",
    "        Normalize.__init__(self, vmin, vmax, clip)\n",
    "\n",
    "    def __call__(self, value, clip=None):\n",
    "        x, y = [self.vmin, self.midpoint, self.vmax], [0, 0.5, 1]\n",
    "        return np.ma.masked_array(np.interp(value, x, y))\n",
    "\n",
    "# #############################################################################\n",
    "# Load and prepare data set\n",
    "#\n",
    "# dataset for grid search\n",
    "\n",
    "X = X_red_train\n",
    "y = y_red_train\n",
    "\n",
    "\n",
    "# #############################################################################\n",
    "# Train classifiers\n",
    "#\n",
    "# For an initial search, a logarithmic grid with basis\n",
    "# 10 is often helpful. Using a basis of 2, a finer\n",
    "# tuning can be achieved but at a much higher cost.\n",
    "\n",
    "C_range =  [0.1, 1, 10, 100, 1000]\n",
    "gamma_range = [0.01, 0.001, 0.0001]\n",
    "param_grid = dict(gamma=gamma_range, C=C_range)\n",
    "cv = StratifiedShuffleSplit(n_splits=5, test_size=0.3, random_state=42)\n",
    "grid = GridSearchCV(SVC(kernel='rbf'), param_grid=param_grid, cv=cv)\n",
    "grid.fit(X, y)\n",
    "\n",
    "print(\"The best parameters are %s with a score of %0.2f\"\n",
    "      % (grid.best_params_, grid.best_score_))\n",
    "\n",
    "scores = grid.cv_results_['mean_test_score'].reshape(len(C_range),\n",
    "                                                     len(gamma_range))\n",
    "\n",
    "# Draw heatmap of the validation accuracy as a function of gamma and C\n",
    "#\n",
    "# The score are encoded as colors with the hot colormap which varies from dark\n",
    "# red to bright yellow. As the most interesting scores are all located in the\n",
    "# 0.92 to 0.97 range we use a custom normalizer to set the mid-point to 0.92 so\n",
    "# as to make it easier to visualize the small variations of score values in the\n",
    "# interesting range while not brutally collapsing all the low score values to\n",
    "# the same color.\n",
    "\n",
    "plt.figure(figsize=(8, 6))\n",
    "plt.subplots_adjust(left=.2, right=0.95, bottom=0.15, top=0.95)\n",
    "plt.imshow(scores, interpolation='nearest', cmap='gray_r',\n",
    "           norm=MidpointNormalize(vmin=0.8, midpoint=0.85))\n",
    "plt.xlabel('gamma')\n",
    "plt.ylabel('C')\n",
    "plt.colorbar()\n",
    "plt.xticks(np.arange(len(gamma_range)), gamma_range, rotation=45)\n",
    "plt.yticks(np.arange(len(C_range)), C_range)\n",
    "plt.title('Validation accuracy')\n",
    "plt.show()\n",
    "\n"
   ]
  },
  {
   "cell_type": "code",
   "execution_count": 28,
   "metadata": {},
   "outputs": [
    {
     "name": "stdout",
     "output_type": "stream",
     "text": [
      "The best parameters are {'C': 1000, 'gamma': 0.01} with a score of 0.83\n"
     ]
    },
    {
     "data": {
      "image/png": "[encoded data removed]",
      "text/plain": [
       "<Figure size 576x432 with 2 Axes>"
      ]
     },
     "metadata": {
      "needs_background": "light"
     },
     "output_type": "display_data"
    }
   ],
   "source": [
    "# Utility function to move the midpoint of a colormap to be around\n",
    "# the values of interest.\n",
    "\n",
    "class MidpointNormalize(Normalize):\n",
    "\n",
    "    def __init__(self, vmin=None, vmax=None, midpoint=None, clip=False):\n",
    "        self.midpoint = midpoint\n",
    "        Normalize.__init__(self, vmin, vmax, clip)\n",
    "\n",
    "    def __call__(self, value, clip=None):\n",
    "        x, y = [self.vmin, self.midpoint, self.vmax], [0, 0.5, 1]\n",
    "        return np.ma.masked_array(np.interp(value, x, y))\n",
    "\n",
    "# #############################################################################\n",
    "# Load and prepare data set\n",
    "#\n",
    "# dataset for grid search\n",
    "\n",
    "X = X_white_train\n",
    "y = y_white_train\n",
    "\n",
    "\n",
    "# #############################################################################\n",
    "# Train classifiers\n",
    "#\n",
    "# For an initial search, a logarithmic grid with basis\n",
    "# 10 is often helpful. Using a basis of 2, a finer\n",
    "# tuning can be achieved but at a much higher cost.\n",
    "\n",
    "C_range =  [0.1, 1, 10, 100, 1000]\n",
    "gamma_range = [0.01, 0.001, 0.0001]\n",
    "param_grid = dict(gamma=gamma_range, C=C_range)\n",
    "cv = StratifiedShuffleSplit(n_splits=5, test_size=0.3, random_state=42)\n",
    "grid = GridSearchCV(SVC(kernel='rbf'), param_grid=param_grid, cv=cv)\n",
    "grid.fit(X, y)\n",
    "\n",
    "print(\"The best parameters are %s with a score of %0.2f\"\n",
    "      % (grid.best_params_, grid.best_score_))\n",
    "\n",
    "scores = grid.cv_results_['mean_test_score'].reshape(len(C_range),\n",
    "                                                     len(gamma_range))\n",
    "\n",
    "# Draw heatmap of the validation accuracy as a function of gamma and C\n",
    "#\n",
    "# The score are encoded as colors with the hot colormap which varies from dark\n",
    "# red to bright yellow. As the most interesting scores are all located in the\n",
    "# 0.92 to 0.97 range we use a custom normalizer to set the mid-point to 0.92 so\n",
    "# as to make it easier to visualize the small variations of score values in the\n",
    "# interesting range while not brutally collapsing all the low score values to\n",
    "# the same color.\n",
    "\n",
    "plt.figure(figsize=(8, 6))\n",
    "plt.subplots_adjust(left=.2, right=0.95, bottom=0.15, top=0.95)\n",
    "plt.imshow(scores, interpolation='nearest', cmap='Blues_r',\n",
    "           norm=MidpointNormalize(vmin=0.78, midpoint=0.92))\n",
    "plt.xlabel('gamma')\n",
    "plt.ylabel('C')\n",
    "plt.colorbar()\n",
    "plt.xticks(np.arange(len(gamma_range)), gamma_range, rotation=45)\n",
    "plt.yticks(np.arange(len(C_range)), C_range)\n",
    "plt.title('Validation accuracy')\n",
    "plt.show()"
   ]
  },
  {
   "cell_type": "markdown",
   "metadata": {},
   "source": [
    "# Exercise 6.5\n",
    "\n",
    "Compare the results with other methods"
   ]
  },
  {
   "cell_type": "markdown",
   "metadata": {},
   "source": [
    "* Logic model for wine White."
   ]
  },
  {
   "cell_type": "code",
   "execution_count": 29,
   "metadata": {},
   "outputs": [
    {
     "data": {
      "text/plain": [
       "LogisticRegression(C=1000000000.0, class_weight=None, dual=False,\n",
       "          fit_intercept=True, intercept_scaling=1, max_iter=100,\n",
       "          multi_class='auto', n_jobs=None, penalty='l2', random_state=None,\n",
       "          solver='liblinear', tol=0.0001, verbose=0, warm_start=False)"
      ]
     },
     "execution_count": 29,
     "metadata": {},
     "output_type": "execute_result"
    }
   ],
   "source": [
    "# build a logistic regression model\n",
    "from sklearn.linear_model import LogisticRegression\n",
    "logreg_red = LogisticRegression(C=1e9,solver='liblinear',multi_class='auto')\n",
    "logreg_red.fit(X_red_train, y_red_train)"
   ]
  },
  {
   "cell_type": "markdown",
   "metadata": {},
   "source": [
    "* Logic model for wine White."
   ]
  },
  {
   "cell_type": "code",
   "execution_count": 30,
   "metadata": {
    "scrolled": true
   },
   "outputs": [
    {
     "data": {
      "text/plain": [
       "LogisticRegression(C=1000000000.0, class_weight=None, dual=False,\n",
       "          fit_intercept=True, intercept_scaling=1, max_iter=100,\n",
       "          multi_class='auto', n_jobs=None, penalty='l2', random_state=None,\n",
       "          solver='liblinear', tol=0.0001, verbose=0, warm_start=False)"
      ]
     },
     "execution_count": 30,
     "metadata": {},
     "output_type": "execute_result"
    }
   ],
   "source": [
    "# build a logistic regression model\n",
    "from sklearn.linear_model import LogisticRegression\n",
    "logreg_white = LogisticRegression(C=1e9,solver='liblinear',multi_class='auto')\n",
    "logreg_white.fit(X_white_train, y_white_train)"
   ]
  },
  {
   "cell_type": "code",
   "execution_count": 31,
   "metadata": {},
   "outputs": [],
   "source": [
    "y_pred_red=logreg_red.predict(X_red_test)"
   ]
  },
  {
   "cell_type": "code",
   "execution_count": 32,
   "metadata": {},
   "outputs": [],
   "source": [
    "y_pred_white=logreg_white.predict(X_white_test)"
   ]
  },
  {
   "cell_type": "code",
   "execution_count": 33,
   "metadata": {
    "scrolled": true
   },
   "outputs": [
    {
     "name": "stdout",
     "output_type": "stream",
     "text": [
      "\n",
      "\n",
      "Models whit wine Red\n",
      "Accuracy Poly: 0.86875\n",
      "Accuracy rbf: 0.8770833333333333\n",
      "Accuracy Sigmoid: 0.8229166666666666\n",
      "Accuracy Model Logic: 0.8583333333333333\n",
      "\n",
      "\n",
      "Models whit wine White\n",
      "Accuracy Poly: 0.8020408163265306\n",
      "Accuracy rbf: 0.819047619047619\n",
      "Accuracy Sigmoid: 0.7224489795918367\n",
      "Accuracy Model Logic: 0.7829931972789116\n"
     ]
    }
   ],
   "source": [
    "#Import scikit-learn metrics module for accuracy calculation\n",
    "from sklearn import metrics\n",
    "\n",
    "print(\"\\n\")\n",
    "print(\"Models whit wine Red\")\n",
    "print(\"Accuracy Poly:\",metrics.accuracy_score(y_red_pred_poly ,y_red_test))\n",
    "print(\"Accuracy rbf:\",metrics.accuracy_score(y_red_pred_rbf,y_red_test))\n",
    "print(\"Accuracy Sigmoid:\",metrics.accuracy_score(y_red_pred_sigmoid,y_red_test))\n",
    "print(\"Accuracy Model Logic:\",metrics.accuracy_score(y_red_pred,y_red_test))\n",
    "\n",
    "print(\"\\n\")\n",
    "print(\"Models whit wine White\")\n",
    "print(\"Accuracy Poly:\",metrics.accuracy_score(y_white_pred_poly ,y_white_test))\n",
    "print(\"Accuracy rbf:\",metrics.accuracy_score(y_white_pred_rbf,y_white_test))\n",
    "print(\"Accuracy Sigmoid:\",metrics.accuracy_score(y_white_pred_sigmoid,y_white_test))\n",
    "print(\"Accuracy Model Logic:\",metrics.accuracy_score(y_white_pred,y_white_test))"
   ]
  },
  {
   "cell_type": "markdown",
   "metadata": {},
   "source": [
    "Como se puede observar en este caso el mejor metodo rbf para la cada modelo de vino blanco y vino rojo."
   ]
  },
  {
   "cell_type": "markdown",
   "metadata": {},
   "source": [
    "# Regularization"
   ]
  },
  {
   "cell_type": "markdown",
   "metadata": {},
   "source": [
    "# Exercise 6.6\n",
    "\n",
    "\n",
    "* Train a linear regression to predict wine quality (Continous)\n",
    "\n",
    "* Analyze the coefficients\n",
    "\n",
    "* Evaluate the RMSE"
   ]
  },
  {
   "cell_type": "code",
   "execution_count": 34,
   "metadata": {
    "scrolled": true
   },
   "outputs": [
    {
     "data": {
      "text/html": [
       "<div>\n",
       "<style scoped>\n",
       "    .dataframe tbody tr th:only-of-type {\n",
       "        vertical-align: middle;\n",
       "    }\n",
       "\n",
       "    .dataframe tbody tr th {\n",
       "        vertical-align: top;\n",
       "    }\n",
       "\n",
       "    .dataframe thead th {\n",
       "        text-align: right;\n",
       "    }\n",
       "</style>\n",
       "<table border=\"1\" class=\"dataframe\">\n",
       "  <thead>\n",
       "    <tr style=\"text-align: right;\">\n",
       "      <th></th>\n",
       "      <th>fixed acidity</th>\n",
       "      <th>volatile acidity</th>\n",
       "      <th>citric acid</th>\n",
       "      <th>residual sugar</th>\n",
       "      <th>chlorides</th>\n",
       "      <th>free sulfur dioxide</th>\n",
       "      <th>total sulfur dioxide</th>\n",
       "      <th>density</th>\n",
       "      <th>pH</th>\n",
       "      <th>sulphates</th>\n",
       "      <th>alcohol</th>\n",
       "      <th>quality</th>\n",
       "      <th>type</th>\n",
       "      <th>quality_bool</th>\n",
       "    </tr>\n",
       "  </thead>\n",
       "  <tbody>\n",
       "    <tr>\n",
       "      <th>4898</th>\n",
       "      <td>7.4</td>\n",
       "      <td>0.70</td>\n",
       "      <td>0.00</td>\n",
       "      <td>1.9</td>\n",
       "      <td>0.076</td>\n",
       "      <td>11.0</td>\n",
       "      <td>34.0</td>\n",
       "      <td>0.9978</td>\n",
       "      <td>3.51</td>\n",
       "      <td>0.56</td>\n",
       "      <td>9.4</td>\n",
       "      <td>5</td>\n",
       "      <td>red</td>\n",
       "      <td>False</td>\n",
       "    </tr>\n",
       "    <tr>\n",
       "      <th>4899</th>\n",
       "      <td>7.8</td>\n",
       "      <td>0.88</td>\n",
       "      <td>0.00</td>\n",
       "      <td>2.6</td>\n",
       "      <td>0.098</td>\n",
       "      <td>25.0</td>\n",
       "      <td>67.0</td>\n",
       "      <td>0.9968</td>\n",
       "      <td>3.20</td>\n",
       "      <td>0.68</td>\n",
       "      <td>9.8</td>\n",
       "      <td>5</td>\n",
       "      <td>red</td>\n",
       "      <td>False</td>\n",
       "    </tr>\n",
       "    <tr>\n",
       "      <th>4900</th>\n",
       "      <td>7.8</td>\n",
       "      <td>0.76</td>\n",
       "      <td>0.04</td>\n",
       "      <td>2.3</td>\n",
       "      <td>0.092</td>\n",
       "      <td>15.0</td>\n",
       "      <td>54.0</td>\n",
       "      <td>0.9970</td>\n",
       "      <td>3.26</td>\n",
       "      <td>0.65</td>\n",
       "      <td>9.8</td>\n",
       "      <td>5</td>\n",
       "      <td>red</td>\n",
       "      <td>False</td>\n",
       "    </tr>\n",
       "    <tr>\n",
       "      <th>4901</th>\n",
       "      <td>11.2</td>\n",
       "      <td>0.28</td>\n",
       "      <td>0.56</td>\n",
       "      <td>1.9</td>\n",
       "      <td>0.075</td>\n",
       "      <td>17.0</td>\n",
       "      <td>60.0</td>\n",
       "      <td>0.9980</td>\n",
       "      <td>3.16</td>\n",
       "      <td>0.58</td>\n",
       "      <td>9.8</td>\n",
       "      <td>6</td>\n",
       "      <td>red</td>\n",
       "      <td>False</td>\n",
       "    </tr>\n",
       "    <tr>\n",
       "      <th>4902</th>\n",
       "      <td>7.4</td>\n",
       "      <td>0.70</td>\n",
       "      <td>0.00</td>\n",
       "      <td>1.9</td>\n",
       "      <td>0.076</td>\n",
       "      <td>11.0</td>\n",
       "      <td>34.0</td>\n",
       "      <td>0.9978</td>\n",
       "      <td>3.51</td>\n",
       "      <td>0.56</td>\n",
       "      <td>9.4</td>\n",
       "      <td>5</td>\n",
       "      <td>red</td>\n",
       "      <td>False</td>\n",
       "    </tr>\n",
       "  </tbody>\n",
       "</table>\n",
       "</div>"
      ],
      "text/plain": [
       "      fixed acidity  volatile acidity  citric acid  residual sugar  chlorides  \\\n",
       "4898            7.4              0.70         0.00             1.9      0.076   \n",
       "4899            7.8              0.88         0.00             2.6      0.098   \n",
       "4900            7.8              0.76         0.04             2.3      0.092   \n",
       "4901           11.2              0.28         0.56             1.9      0.075   \n",
       "4902            7.4              0.70         0.00             1.9      0.076   \n",
       "\n",
       "      free sulfur dioxide  total sulfur dioxide  density    pH  sulphates  \\\n",
       "4898                 11.0                  34.0   0.9978  3.51       0.56   \n",
       "4899                 25.0                  67.0   0.9968  3.20       0.68   \n",
       "4900                 15.0                  54.0   0.9970  3.26       0.65   \n",
       "4901                 17.0                  60.0   0.9980  3.16       0.58   \n",
       "4902                 11.0                  34.0   0.9978  3.51       0.56   \n",
       "\n",
       "      alcohol  quality type  quality_bool  \n",
       "4898      9.4        5  red         False  \n",
       "4899      9.8        5  red         False  \n",
       "4900      9.8        5  red         False  \n",
       "4901      9.8        6  red         False  \n",
       "4902      9.4        5  red         False  "
      ]
     },
     "execution_count": 34,
     "metadata": {},
     "output_type": "execute_result"
    }
   ],
   "source": [
    "datawhite.head()\n",
    "datared.head()"
   ]
  },
  {
   "cell_type": "markdown",
   "metadata": {},
   "source": [
    "* Train a linear regression to predict wine quality (Continous)"
   ]
  },
  {
   "cell_type": "code",
   "execution_count": 35,
   "metadata": {},
   "outputs": [],
   "source": [
    "y_red_target=datared[['quality']].values\n",
    "y_white_target=datawhite[['quality']].values"
   ]
  },
  {
   "cell_type": "code",
   "execution_count": 36,
   "metadata": {},
   "outputs": [],
   "source": [
    "from sklearn.model_selection import train_test_split\n",
    "\n",
    "# split.\n",
    "X_red_train, X_red_test, y_red_train, y_red_test = train_test_split(X_red, y_red_target, test_size=0.3,random_state=109)\n",
    "# 70% training and 30% test\n",
    "X_white_train, X_white_test, y_white_train, y_white_test = train_test_split(X_white, y_white_target, test_size=0.3,random_state=109)\n"
   ]
  },
  {
   "cell_type": "markdown",
   "metadata": {},
   "source": [
    "Train the model wine red"
   ]
  },
  {
   "cell_type": "code",
   "execution_count": 37,
   "metadata": {
    "scrolled": true
   },
   "outputs": [
    {
     "data": {
      "text/plain": [
       "LinearRegression(copy_X=True, fit_intercept=True, n_jobs=None,\n",
       "         normalize=False)"
      ]
     },
     "execution_count": 37,
     "metadata": {},
     "output_type": "execute_result"
    }
   ],
   "source": [
    "from sklearn.linear_model import LinearRegression\n",
    "linreg_red = LinearRegression()\n",
    "linreg_red.fit(X_red_train, y_red_train)"
   ]
  },
  {
   "cell_type": "code",
   "execution_count": 38,
   "metadata": {
    "scrolled": true
   },
   "outputs": [
    {
     "name": "stdout",
     "output_type": "stream",
     "text": [
      "[[ 0.01737056 -0.20304306 -0.0262521   0.03794249 -0.10448874  0.07689241\n",
      "  -0.1571144   0.00180962 -0.08752739  0.15939857  0.28004123]]\n"
     ]
    }
   ],
   "source": [
    "# examine the coefficients\n",
    "print(linreg_red.coef_)"
   ]
  },
  {
   "cell_type": "code",
   "execution_count": 39,
   "metadata": {},
   "outputs": [],
   "source": [
    "# make predictions\n",
    "y_pred_red = linreg_red.predict(X_red_test)"
   ]
  },
  {
   "cell_type": "code",
   "execution_count": 40,
   "metadata": {},
   "outputs": [
    {
     "name": "stdout",
     "output_type": "stream",
     "text": [
      "0.6543319073834599\n"
     ]
    }
   ],
   "source": [
    "# calculate RMSE\n",
    "from sklearn import metrics\n",
    "import numpy as np\n",
    "print(np.sqrt(metrics.mean_squared_error(y_red_test, y_pred_red)))"
   ]
  },
  {
   "cell_type": "markdown",
   "metadata": {},
   "source": [
    "Train the model wine white."
   ]
  },
  {
   "cell_type": "code",
   "execution_count": 41,
   "metadata": {},
   "outputs": [
    {
     "data": {
      "text/plain": [
       "LinearRegression(copy_X=True, fit_intercept=True, n_jobs=None,\n",
       "         normalize=False)"
      ]
     },
     "execution_count": 41,
     "metadata": {},
     "output_type": "execute_result"
    }
   ],
   "source": [
    "from sklearn.linear_model import LinearRegression\n",
    "linreg_white = LinearRegression()\n",
    "linreg_white.fit(X_white_train, y_white_train)"
   ]
  },
  {
   "cell_type": "code",
   "execution_count": 42,
   "metadata": {},
   "outputs": [
    {
     "name": "stdout",
     "output_type": "stream",
     "text": [
      "[[ 0.05475717 -0.18928128  0.00928047  0.36602499 -0.00668002  0.0936553\n",
      "  -0.02506105 -0.37636361  0.09896927  0.06905181  0.27308102]]\n"
     ]
    }
   ],
   "source": [
    "# examine the coefficients\n",
    "print(linreg_white.coef_)"
   ]
  },
  {
   "cell_type": "code",
   "execution_count": 43,
   "metadata": {},
   "outputs": [],
   "source": [
    "# make predictions\n",
    "y_pred_white = linreg_white.predict(X_white_test)"
   ]
  },
  {
   "cell_type": "code",
   "execution_count": 44,
   "metadata": {},
   "outputs": [
    {
     "name": "stdout",
     "output_type": "stream",
     "text": [
      "0.7542572489194043\n"
     ]
    }
   ],
   "source": [
    "# calculate RMSE\n",
    "from sklearn import metrics\n",
    "import numpy as np\n",
    "print(np.sqrt(metrics.mean_squared_error(y_white_test, y_pred_white)))"
   ]
  },
  {
   "cell_type": "markdown",
   "metadata": {},
   "source": [
    "# Exercise 6.7\n",
    "\n",
    "* Estimate a ridge regression with alpha equals 0.1 and 1.\n",
    "* Compare the coefficients with the linear regression\n",
    "* Evaluate the RMSE"
   ]
  },
  {
   "cell_type": "markdown",
   "metadata": {},
   "source": [
    "* Estimate a ridge regression with alpha equals 0.1 and 1  the models wine red."
   ]
  },
  {
   "cell_type": "code",
   "execution_count": 45,
   "metadata": {},
   "outputs": [],
   "source": [
    "# alpha=0 is equivalent to linear regression\n",
    "from sklearn.linear_model import Ridge\n",
    "\n",
    "ridgereg_gamma_ = Ridge(alpha=0.1, normalize=True)\n",
    "ridgereg_gamma_.fit(X_red_train, y_red_train)\n",
    "y_pred_red_gamma_ = ridgereg_gamma_.predict(X_red_test)\n",
    "\n",
    "\n",
    "ridgereg_gamma_1 = Ridge(alpha=1, normalize=True)\n",
    "ridgereg_gamma_1.fit(X_red_train, y_red_train)\n",
    "y_pred_red_gamma_1 = ridgereg_gamma_1.predict(X_red_test)\n"
   ]
  },
  {
   "cell_type": "markdown",
   "metadata": {},
   "source": [
    "* Compare the coefficients with the linear regression"
   ]
  },
  {
   "cell_type": "code",
   "execution_count": 46,
   "metadata": {},
   "outputs": [
    {
     "name": "stdout",
     "output_type": "stream",
     "text": [
      "[[ 0.04606609 -0.18215677  0.00500591  0.04381393 -0.09544787  0.05523015\n",
      "  -0.13275306 -0.0375161  -0.05237244  0.14785061  0.23930579]]\n"
     ]
    }
   ],
   "source": [
    "# examine the coefficients whit the gamma iqual 0.1\n",
    "print(ridgereg_gamma_.coef_)"
   ]
  },
  {
   "cell_type": "code",
   "execution_count": 47,
   "metadata": {},
   "outputs": [
    {
     "name": "stdout",
     "output_type": "stream",
     "text": [
      "[[ 0.03622946 -0.11662751  0.04838865  0.02363452 -0.05438763  0.01030429\n",
      "  -0.06828811 -0.04103946 -0.01834822  0.08411945  0.14513335]]\n"
     ]
    }
   ],
   "source": [
    "# examine the coefficients whit the gamma iqual 1\n",
    "print(ridgereg_gamma_1.coef_)"
   ]
  },
  {
   "cell_type": "markdown",
   "metadata": {},
   "source": [
    "* Evaluate the RMSE"
   ]
  },
  {
   "cell_type": "code",
   "execution_count": 48,
   "metadata": {},
   "outputs": [
    {
     "name": "stdout",
     "output_type": "stream",
     "text": [
      "0.6519527343519582\n",
      "0.6732768296429634\n"
     ]
    }
   ],
   "source": [
    "# calculate RMSE\n",
    "print(np.sqrt(metrics.mean_squared_error(y_red_test, y_pred_red_gamma_)))\n",
    "print(np.sqrt(metrics.mean_squared_error(y_red_test, y_pred_red_gamma_1)))"
   ]
  },
  {
   "cell_type": "markdown",
   "metadata": {},
   "source": [
    "* Estimate a ridge regression with alpha equals 0.1 and 1 the models wine white."
   ]
  },
  {
   "cell_type": "code",
   "execution_count": 49,
   "metadata": {},
   "outputs": [],
   "source": [
    "# alpha=0 is equivalent to linear regression\n",
    "from sklearn.linear_model import Ridge\n",
    "\n",
    "ridgereg_gamma_white = Ridge(alpha=0.1, normalize=True)\n",
    "ridgereg_gamma_white.fit(X_white_train, y_white_train)\n",
    "y_pred_white_gamma_ = ridgereg_gamma_white.predict(X_white_test)\n",
    "\n",
    "\n",
    "ridgereg_gamma_white_1 = Ridge(alpha=1, normalize=True)\n",
    "ridgereg_gamma_white_1.fit(X_white_train, y_white_train)\n",
    "y_pred_gamma_white_1 = ridgereg_gamma_white_1.predict(X_white_test)"
   ]
  },
  {
   "cell_type": "markdown",
   "metadata": {},
   "source": [
    "* Compare the coefficients with the linear regression"
   ]
  },
  {
   "cell_type": "code",
   "execution_count": 50,
   "metadata": {},
   "outputs": [
    {
     "name": "stdout",
     "output_type": "stream",
     "text": [
      "[[-0.00487607 -0.17028193  0.01191623  0.16873324 -0.03332629  0.09570493\n",
      "  -0.0383299  -0.13598213  0.04802838  0.05202626  0.32209006]]\n"
     ]
    }
   ],
   "source": [
    "# examine the coefficients whit the gamma iqual 0.1\n",
    "print(ridgereg_gamma_white.coef_)"
   ]
  },
  {
   "cell_type": "code",
   "execution_count": 51,
   "metadata": {},
   "outputs": [
    {
     "name": "stdout",
     "output_type": "stream",
     "text": [
      "[[-0.02051661 -0.08680638  0.01193706  0.03208633 -0.05290928  0.04745828\n",
      "  -0.03325236 -0.07078297  0.02468722  0.02835974  0.16071   ]]\n"
     ]
    }
   ],
   "source": [
    "# examine the coefficients whit the gamma iqual 1\n",
    "print(ridgereg_gamma_white_1.coef_)"
   ]
  },
  {
   "cell_type": "code",
   "execution_count": 52,
   "metadata": {},
   "outputs": [
    {
     "name": "stdout",
     "output_type": "stream",
     "text": [
      "0.7587567757285336\n",
      "0.7890051833758136\n"
     ]
    }
   ],
   "source": [
    "# calculate RMSE\n",
    "print(np.sqrt(metrics.mean_squared_error(y_white_test, y_pred_white_gamma_)))\n",
    "print(np.sqrt(metrics.mean_squared_error(y_white_test, y_pred_gamma_white_1)))"
   ]
  },
  {
   "cell_type": "markdown",
   "metadata": {},
   "source": [
    "# Exercise 6.8\n",
    "\n",
    "* Estimate a lasso regression with alpha equals 0.01, 0.1 and 1.\n",
    "* Compare the coefficients with the linear regression\n",
    "* Evaluate the RMSE"
   ]
  },
  {
   "cell_type": "markdown",
   "metadata": {},
   "source": [
    "* Estimate a lasso regression with alpha equals 0.01,0.1 and 1 the models wine red."
   ]
  },
  {
   "cell_type": "code",
   "execution_count": 53,
   "metadata": {},
   "outputs": [
    {
     "data": {
      "text/plain": [
       "Lasso(alpha=0.01, copy_X=True, fit_intercept=True, max_iter=1000,\n",
       "   normalize=True, positive=False, precompute=False, random_state=None,\n",
       "   selection='cyclic', tol=0.0001, warm_start=False)"
      ]
     },
     "execution_count": 53,
     "metadata": {},
     "output_type": "execute_result"
    }
   ],
   "source": [
    "# select alpha 0.01 with LassoCV\n",
    "\n",
    "from sklearn.linear_model import Lasso\n",
    "lassoreg = Lasso(alpha=0.01, normalize=True)\n",
    "lassoreg.fit(X_red_train, y_red_train)"
   ]
  },
  {
   "cell_type": "code",
   "execution_count": 54,
   "metadata": {},
   "outputs": [
    {
     "name": "stdout",
     "output_type": "stream",
     "text": [
      "[ 0.         -0.          0.          0.         -0.         -0.\n",
      " -0.         -0.         -0.          0.          0.03805889]\n"
     ]
    }
   ],
   "source": [
    "print(lassoreg.coef_)"
   ]
  },
  {
   "cell_type": "code",
   "execution_count": 55,
   "metadata": {},
   "outputs": [
    {
     "name": "stdout",
     "output_type": "stream",
     "text": [
      "0.7754959046127251\n"
     ]
    }
   ],
   "source": [
    "# calculate RMSE (for alpha=0.01)\n",
    "y_pred = lassoreg.predict(X_red_test)\n",
    "print(np.sqrt(metrics.mean_squared_error(y_red_test, y_pred)))"
   ]
  },
  {
   "cell_type": "code",
   "execution_count": 56,
   "metadata": {},
   "outputs": [
    {
     "data": {
      "text/plain": [
       "Lasso(alpha=0.1, copy_X=True, fit_intercept=True, max_iter=1000,\n",
       "   normalize=True, positive=False, precompute=False, random_state=None,\n",
       "   selection='cyclic', tol=0.0001, warm_start=False)"
      ]
     },
     "execution_count": 56,
     "metadata": {},
     "output_type": "execute_result"
    }
   ],
   "source": [
    "# select alpha 0.1 with LassoCV\n",
    "from sklearn.linear_model import Lasso\n",
    "lassoreg_alpha_ = Lasso(alpha=0.1, normalize=True)\n",
    "lassoreg_alpha_.fit(X_red_train, y_red_train)"
   ]
  },
  {
   "cell_type": "code",
   "execution_count": 57,
   "metadata": {},
   "outputs": [
    {
     "name": "stdout",
     "output_type": "stream",
     "text": [
      "[ 0. -0.  0.  0. -0. -0. -0. -0. -0.  0.  0.]\n"
     ]
    }
   ],
   "source": [
    "print(lassoreg_alpha_.coef_)"
   ]
  },
  {
   "cell_type": "code",
   "execution_count": 58,
   "metadata": {},
   "outputs": [
    {
     "name": "stdout",
     "output_type": "stream",
     "text": [
      "0.7947723421675092\n"
     ]
    }
   ],
   "source": [
    "# calculate RMSE (for alpha=1)\n",
    "y_red_pred_alpha = lassoreg_alpha_.predict(X_red_test)\n",
    "print(np.sqrt(metrics.mean_squared_error(y_red_test, y_red_pred_alpha)))"
   ]
  },
  {
   "cell_type": "code",
   "execution_count": 59,
   "metadata": {},
   "outputs": [
    {
     "data": {
      "text/plain": [
       "Lasso(alpha=1, copy_X=True, fit_intercept=True, max_iter=1000, normalize=True,\n",
       "   positive=False, precompute=False, random_state=None, selection='cyclic',\n",
       "   tol=0.0001, warm_start=False)"
      ]
     },
     "execution_count": 59,
     "metadata": {},
     "output_type": "execute_result"
    }
   ],
   "source": [
    "# select alpha 1 with LassoCV\n",
    "\n",
    "from sklearn.linear_model import Lasso\n",
    "lassoreg_alpha_1 = Lasso(alpha=1, normalize=True)\n",
    "lassoreg_alpha_1.fit(X_red_train, y_red_train)"
   ]
  },
  {
   "cell_type": "code",
   "execution_count": 60,
   "metadata": {},
   "outputs": [
    {
     "name": "stdout",
     "output_type": "stream",
     "text": [
      "[ 0. -0.  0.  0. -0. -0. -0. -0. -0.  0.  0.]\n"
     ]
    }
   ],
   "source": [
    "print(lassoreg_alpha_1.coef_)"
   ]
  },
  {
   "cell_type": "code",
   "execution_count": 61,
   "metadata": {},
   "outputs": [
    {
     "name": "stdout",
     "output_type": "stream",
     "text": [
      "0.7947723421675092\n"
     ]
    }
   ],
   "source": [
    "# calculate RMSE (for alpha=1)\n",
    "y_red_pred_alpha_1 = lassoreg_alpha_1.predict(X_red_test)\n",
    "print(np.sqrt(metrics.mean_squared_error(y_red_test, y_red_pred_alpha_1)))"
   ]
  },
  {
   "cell_type": "markdown",
   "metadata": {},
   "source": [
    "* Estimate a lasso regression with alpha equals 0.01,0.1 and 1 the models wine White."
   ]
  },
  {
   "cell_type": "code",
   "execution_count": 62,
   "metadata": {},
   "outputs": [
    {
     "data": {
      "text/plain": [
       "Lasso(alpha=0.01, copy_X=True, fit_intercept=True, max_iter=1000,\n",
       "   normalize=True, positive=False, precompute=False, random_state=None,\n",
       "   selection='cyclic', tol=0.0001, warm_start=False)"
      ]
     },
     "execution_count": 62,
     "metadata": {},
     "output_type": "execute_result"
    }
   ],
   "source": [
    "# select alpha 0.01 with LassoCV\n",
    "\n",
    "from sklearn.linear_model import Lasso\n",
    "lassoreg_white_alpha_ = Lasso(alpha=0.01, normalize=True)\n",
    "lassoreg_white_alpha_.fit(X_white_train, y_white_train)"
   ]
  },
  {
   "cell_type": "code",
   "execution_count": 63,
   "metadata": {},
   "outputs": [
    {
     "name": "stdout",
     "output_type": "stream",
     "text": [
      "[-0. -0.  0. -0. -0.  0. -0. -0.  0.  0.  0.]\n"
     ]
    }
   ],
   "source": [
    "print(lassoreg_white_alpha_.coef_)"
   ]
  },
  {
   "cell_type": "code",
   "execution_count": 64,
   "metadata": {},
   "outputs": [
    {
     "name": "stdout",
     "output_type": "stream",
     "text": [
      "0.8846258738163129\n"
     ]
    }
   ],
   "source": [
    "# calculate RMSE (for alpha=0.01)\n",
    "y_pred_white = lassoreg_white_alpha_.predict(X_white_test)\n",
    "print(np.sqrt(metrics.mean_squared_error(y_white_test, y_pred_white)))"
   ]
  },
  {
   "cell_type": "code",
   "execution_count": 65,
   "metadata": {},
   "outputs": [
    {
     "data": {
      "text/plain": [
       "Lasso(alpha=0.1, copy_X=True, fit_intercept=True, max_iter=1000,\n",
       "   normalize=True, positive=False, precompute=False, random_state=None,\n",
       "   selection='cyclic', tol=0.0001, warm_start=False)"
      ]
     },
     "execution_count": 65,
     "metadata": {},
     "output_type": "execute_result"
    }
   ],
   "source": [
    "# select alpha 0.1 with LassoCV\n",
    "from sklearn.linear_model import Lasso\n",
    "lassoreg_alpha_ = Lasso(alpha=0.1, normalize=True)\n",
    "lassoreg_alpha_.fit(X_white_train, y_white_train)"
   ]
  },
  {
   "cell_type": "code",
   "execution_count": 66,
   "metadata": {},
   "outputs": [
    {
     "name": "stdout",
     "output_type": "stream",
     "text": [
      "[-0. -0.  0. -0. -0.  0. -0. -0.  0.  0.  0.]\n"
     ]
    }
   ],
   "source": [
    "print(lassoreg_alpha_.coef_)"
   ]
  },
  {
   "cell_type": "code",
   "execution_count": 67,
   "metadata": {},
   "outputs": [
    {
     "name": "stdout",
     "output_type": "stream",
     "text": [
      "0.8846258738163129\n"
     ]
    }
   ],
   "source": [
    "# calculate RMSE (for alpha=0.01)\n",
    "y_pred_white = lassoreg_alpha_.predict(X_white_test)\n",
    "print(np.sqrt(metrics.mean_squared_error(y_white_test, y_pred_white)))"
   ]
  },
  {
   "cell_type": "code",
   "execution_count": 68,
   "metadata": {},
   "outputs": [
    {
     "data": {
      "text/plain": [
       "Lasso(alpha=1, copy_X=True, fit_intercept=True, max_iter=1000, normalize=True,\n",
       "   positive=False, precompute=False, random_state=None, selection='cyclic',\n",
       "   tol=0.0001, warm_start=False)"
      ]
     },
     "execution_count": 68,
     "metadata": {},
     "output_type": "execute_result"
    }
   ],
   "source": [
    "# select alpha 0.1 with LassoCV\n",
    "from sklearn.linear_model import Lasso\n",
    "lassoreg_alpha_1 = Lasso(alpha=1, normalize=True)\n",
    "lassoreg_alpha_1.fit(X_white_train, y_white_train)"
   ]
  },
  {
   "cell_type": "code",
   "execution_count": 69,
   "metadata": {},
   "outputs": [
    {
     "name": "stdout",
     "output_type": "stream",
     "text": [
      "[-0. -0.  0. -0. -0.  0. -0. -0.  0.  0.  0.]\n"
     ]
    }
   ],
   "source": [
    "print(lassoreg_alpha_1.coef_)"
   ]
  },
  {
   "cell_type": "code",
   "execution_count": 70,
   "metadata": {},
   "outputs": [
    {
     "name": "stdout",
     "output_type": "stream",
     "text": [
      "0.8846258738163129\n"
     ]
    }
   ],
   "source": [
    "# calculate RMSE (for alpha=0.01)\n",
    "y_pred_white = lassoreg_alpha_1.predict(X_white_test)\n",
    "print(np.sqrt(metrics.mean_squared_error(y_white_test, y_pred_white)))"
   ]
  },
  {
   "cell_type": "markdown",
   "metadata": {},
   "source": [
    "# Exercise 6.9\n",
    "\n",
    "* Create a binary target\n",
    "\n",
    "* Train a logistic regression to predict wine quality (binary)\n",
    "\n",
    "* Analyze the coefficients\n",
    "\n",
    "* Evaluate the f1score"
   ]
  },
  {
   "cell_type": "code",
   "execution_count": 71,
   "metadata": {},
   "outputs": [],
   "source": [
    "y_red= pd.get_dummies(datared,columns=[\"quality_bool\"])\n",
    "y_red_target=y_red[['quality_bool_True']].values\n",
    "\n",
    "y_white= pd.get_dummies(datawhite,columns=[\"quality_bool\"])\n",
    "y_white_target=y_white[['quality_bool_True']].values\n",
    "\n"
   ]
  },
  {
   "cell_type": "code",
   "execution_count": 72,
   "metadata": {},
   "outputs": [],
   "source": [
    "from sklearn.model_selection import train_test_split\n",
    "\n",
    "# split.\n",
    "X_red_train, X_red_test, y_red_train, y_red_test = train_test_split(X_red, y_red_target, test_size=0.3,random_state=109)\n",
    "# 70% training and 30% test\n",
    "X_white_train, X_white_test, y_white_train, y_white_test = train_test_split(X_white, y_white_target, test_size=0.3,random_state=109)\n"
   ]
  },
  {
   "cell_type": "code",
   "execution_count": 73,
   "metadata": {
    "scrolled": true
   },
   "outputs": [
    {
     "data": {
      "text/plain": [
       "LogisticRegression(C=1000000000.0, class_weight=None, dual=False,\n",
       "          fit_intercept=True, intercept_scaling=1, max_iter=100,\n",
       "          multi_class='auto', n_jobs=None, penalty='l2', random_state=None,\n",
       "          solver='liblinear', tol=0.0001, verbose=0, warm_start=False)"
      ]
     },
     "execution_count": 73,
     "metadata": {},
     "output_type": "execute_result"
    }
   ],
   "source": [
    "# build a logistic regression model\n",
    "from sklearn.linear_model import LogisticRegression\n",
    "logreg_red = LogisticRegression(C=1e9,solver='liblinear',multi_class='auto')\n",
    "logreg_red.fit(X_red_train, y_red_train)"
   ]
  },
  {
   "cell_type": "code",
   "execution_count": 74,
   "metadata": {},
   "outputs": [
    {
     "name": "stdout",
     "output_type": "stream",
     "text": [
      "[[ 0.42032128 -0.64485504  0.02751079  0.44242441 -0.55942435  0.46147425\n",
      "  -1.26982666 -0.39229325  0.02585349  0.75536668  0.76610956]]\n"
     ]
    }
   ],
   "source": [
    "# examine the coefficients\n",
    "print(logreg_red.coef_)"
   ]
  },
  {
   "cell_type": "code",
   "execution_count": 75,
   "metadata": {},
   "outputs": [],
   "source": [
    "# generate predicted probabilities\n",
    "y_pred_prob_red = logreg_red.predict_proba(X_red_test)"
   ]
  },
  {
   "cell_type": "code",
   "execution_count": 76,
   "metadata": {
    "scrolled": true
   },
   "outputs": [
    {
     "name": "stdout",
     "output_type": "stream",
     "text": [
      "0.3307778082389001\n"
     ]
    }
   ],
   "source": [
    "# calculate log loss\n",
    "print(metrics.log_loss(y_red_test, y_pred_prob_red))"
   ]
  },
  {
   "cell_type": "code",
   "execution_count": 77,
   "metadata": {},
   "outputs": [],
   "source": [
    "y_pred_red=logreg_red.predict(X_red_test)\n"
   ]
  },
  {
   "cell_type": "code",
   "execution_count": 78,
   "metadata": {},
   "outputs": [
    {
     "name": "stdout",
     "output_type": "stream",
     "text": [
      "0.4220183486238533\n"
     ]
    }
   ],
   "source": [
    "from sklearn.metrics import f1_score\n",
    "\n",
    "print(f1_score(y_red_test,y_pred_red))"
   ]
  },
  {
   "cell_type": "markdown",
   "metadata": {},
   "source": [
    "* Train a logistic regression to predict wine quality (binary), variable White."
   ]
  },
  {
   "cell_type": "code",
   "execution_count": 79,
   "metadata": {},
   "outputs": [
    {
     "data": {
      "text/plain": [
       "LogisticRegression(C=1000000000.0, class_weight=None, dual=False,\n",
       "          fit_intercept=True, intercept_scaling=1, max_iter=100,\n",
       "          multi_class='auto', n_jobs=None, penalty='l2', random_state=None,\n",
       "          solver='liblinear', tol=0.0001, verbose=0, warm_start=False)"
      ]
     },
     "execution_count": 79,
     "metadata": {},
     "output_type": "execute_result"
    }
   ],
   "source": [
    "# build a logistic regression model\n",
    "from sklearn.linear_model import LogisticRegression\n",
    "logreg_white = LogisticRegression(C=1e9,solver='liblinear',multi_class='auto')\n",
    "logreg_white.fit(X_white_train, y_white_train)\n"
   ]
  },
  {
   "cell_type": "code",
   "execution_count": 80,
   "metadata": {},
   "outputs": [
    {
     "name": "stdout",
     "output_type": "stream",
     "text": [
      "[[ 0.41454243 -0.38957237 -0.09268664  1.2899411  -0.24718353  0.18333507\n",
      "  -0.0449817  -1.63192967  0.45869951  0.22965399  0.3565719 ]]\n"
     ]
    }
   ],
   "source": [
    "# examine the coefficients\n",
    "print(logreg_white.coef_)"
   ]
  },
  {
   "cell_type": "code",
   "execution_count": 81,
   "metadata": {},
   "outputs": [],
   "source": [
    "# generate predicted probabilities\n",
    "y_pred_prob_white = logreg_white.predict_proba(X_white_test)"
   ]
  },
  {
   "cell_type": "code",
   "execution_count": 82,
   "metadata": {},
   "outputs": [
    {
     "name": "stdout",
     "output_type": "stream",
     "text": [
      "0.4257721959218283\n"
     ]
    }
   ],
   "source": [
    "# calculate log loss\n",
    "print(metrics.log_loss(y_white_test, y_pred_prob_white))"
   ]
  },
  {
   "cell_type": "code",
   "execution_count": 83,
   "metadata": {},
   "outputs": [],
   "source": [
    "y_pred_white=logreg_white.predict(X_white_test)"
   ]
  },
  {
   "cell_type": "code",
   "execution_count": 84,
   "metadata": {},
   "outputs": [
    {
     "name": "stdout",
     "output_type": "stream",
     "text": [
      "0.37606837606837606\n"
     ]
    }
   ],
   "source": [
    "from sklearn.metrics import f1_score\n",
    "\n",
    "print(f1_score(y_white_test,y_pred_white))"
   ]
  },
  {
   "cell_type": "markdown",
   "metadata": {},
   "source": [
    "# Exercise 6.10\n",
    "\n",
    "* Estimate a regularized logistic regression using:\n",
    "* C = 0.01, 0.1 & 1.0\n",
    "* penalty = ['l1, 'l2']\n",
    "* Compare the coefficients and the f1score"
   ]
  },
  {
   "cell_type": "code",
   "execution_count": 85,
   "metadata": {},
   "outputs": [
    {
     "name": "stdout",
     "output_type": "stream",
     "text": [
      "\n",
      "\n",
      "Logistic, C=1 , penalty=L1:\n",
      "\tBrier: 0.095\n",
      "\tPrecision: 0.575\n",
      "\tRecall: 0.338\n",
      "\tF1: 0.426\n",
      "\n",
      "\tcoefficients:\n",
      " [[ 0.35620347 -0.64491464  0.01392056  0.39351251 -0.50685909  0.39299564\n",
      "  -1.14047028 -0.32299613  0.          0.71207697  0.77399407]]\n",
      "\n",
      "\n",
      "Logistic, C=0.1 , penalty=L1:\n",
      "\tBrier: 0.093\n",
      "\tPrecision: 0.581\n",
      "\tRecall: 0.265\n",
      "\tF1: 0.364\n",
      "\n",
      "\tcoefficients:\n",
      " [[ 0.28483163 -0.44746713  0.10778565  0.27660644 -0.32384732  0.15083674\n",
      "  -0.5870576  -0.31592694  0.00639679  0.50756202  0.5807523 ]]\n",
      "\n",
      "\n",
      "Logistic, C=0.01 , penalty=L1:\n",
      "\tBrier: 0.116\n",
      "\tPrecision: 0.000\n",
      "\tRecall: 0.000\n",
      "\tF1: 0.000\n",
      "\n",
      "\tcoefficients:\n",
      " [[ 0.         -0.02440025  0.          0.          0.          0.\n",
      "   0.          0.          0.          0.          0.22132142]]\n",
      "\n",
      "\n",
      "Logistic, C=1 , penalty=L2:\n",
      "\tBrier: 0.095\n",
      "\tPrecision: 0.561\n",
      "\tRecall: 0.338\n",
      "\tF1: 0.422\n",
      "\n",
      "\tcoefficients:\n",
      " [[ 0.4024385  -0.60657181  0.04489357  0.41162355 -0.50821956  0.38461533\n",
      "  -1.10522623 -0.38797404  0.02698453  0.70742281  0.72593433]]\n",
      "\n",
      "\n",
      "Logistic, C=0.1 , penalty=L2:\n",
      "\tBrier: 0.093\n",
      "\tPrecision: 0.581\n",
      "\tRecall: 0.265\n",
      "\tF1: 0.364\n",
      "\n",
      "\tcoefficients:\n",
      " [[ 0.28483163 -0.44746713  0.10778565  0.27660644 -0.32384732  0.15083674\n",
      "  -0.5870576  -0.31592694  0.00639679  0.50756202  0.5807523 ]]\n",
      "\n",
      "\n",
      "Logistic, C=0.01 , penalty=L2:\n",
      "\tBrier: 0.104\n",
      "\tPrecision: 0.739\n",
      "\tRecall: 0.250\n",
      "\tF1: 0.374\n",
      "\n",
      "\tcoefficients:\n",
      " [[ 0.10759464 -0.21784851  0.1228917   0.09841464 -0.11540099  0.00084371\n",
      "  -0.16644922 -0.14900308 -0.01766605  0.21397119  0.32817173]]\n"
     ]
    },
    {
     "data": {
      "image/png": "[encoded data removed]",
      "text/plain": [
       "<Figure size 720x720 with 2 Axes>"
      ]
     },
     "metadata": {
      "needs_background": "light"
     },
     "output_type": "display_data"
    }
   ],
   "source": [
    "import matplotlib.pyplot as plt\n",
    "\n",
    "from sklearn import datasets\n",
    "from sklearn.naive_bayes import GaussianNB\n",
    "from sklearn.svm import LinearSVC\n",
    "from sklearn.linear_model import LogisticRegression\n",
    "from sklearn.metrics import (brier_score_loss, precision_score, recall_score,\n",
    "                             f1_score)\n",
    "from sklearn.calibration import CalibratedClassifierCV, calibration_curve\n",
    "from sklearn.model_selection import train_test_split\n",
    "\n",
    "\n",
    "# Create dataset of classification task with many redundant and few\n",
    "# informative features\n",
    "\n",
    "def plot_calibration_curve(est, name, fig_index):\n",
    "    \"\"\"Plot calibration curve for est w/o and with calibration. \"\"\"\n",
    "    # Calibrated with isotonic calibration\n",
    "    lr_C_P1 = LogisticRegression(C=0.01,penalty='l1',  solver='liblinear',multi_class='auto')\n",
    "\n",
    "    # Calibrated with sigmoid calibration\n",
    "    lr_C_1_p1 = LogisticRegression(C=0.1,penalty='l1',  solver='liblinear',multi_class='auto')\n",
    "\n",
    "    # Logistic regression with no calibration as baseline\n",
    "    lr_p1 = LogisticRegression(C=1.,penalty='l1',  solver='liblinear',multi_class='auto')\n",
    "\n",
    "    # Calibrated with isotonic calibration\n",
    "    lr_C_pl2 = LogisticRegression(C=0.01,penalty='l2', solver='liblinear',multi_class='auto') \n",
    "\n",
    "    # Calibrated with sigmoid calibration\n",
    "    lr_C_1_p1 = LogisticRegression(C=0.1,penalty='l2', solver='liblinear',multi_class='auto')\n",
    "\n",
    "    # Logistic regression with no calibration as baseline\n",
    "    lr_pl2 = LogisticRegression(C=1,penalty='l2', solver='liblinear',multi_class='auto')    \n",
    "    \n",
    "    \n",
    "    fig = plt.figure(fig_index, figsize=(10, 10))\n",
    "    ax1 = plt.subplot2grid((3, 1), (0, 0), rowspan=2)\n",
    "    ax2 = plt.subplot2grid((3, 1), (2, 0))\n",
    "\n",
    "    ax1.plot([0, 1], [0, 1], \"k:\", label=\"Perfectly calibrated\")\n",
    "    for clf, name in [(lr_p1,'Logistic, C=1 , penalty=L1'),\n",
    "                      (lr_C_1_p1,'Logistic, C=0.1 , penalty=L1'),\n",
    "                      (lr_C_P1, 'Logistic, C=0.01 , penalty=L1'),\n",
    "                      (lr_pl2, 'Logistic, C=1 , penalty=L2'),\n",
    "                      (lr_C_1_p1,  'Logistic, C=0.1 , penalty=L2'),\n",
    "                      (lr_C_pl2, 'Logistic, C=0.01 , penalty=L2'),]:\n",
    "        clf.fit(X_red_train, y_red_train)\n",
    "        y_pred = clf.predict(X_red_test)\n",
    "        \n",
    "        if hasattr(clf, \"predict_proba\"):\n",
    "            prob_pos = clf.predict_proba(X_red_test)[:, 1]\n",
    "        else:  # use decision function\n",
    "            prob_pos = clf.decision_function(X_red_test)\n",
    "            prob_pos = \\\n",
    "                (prob_pos - prob_pos.min()) / (prob_pos.max() - prob_pos.min())\n",
    "\n",
    "        clf_score = brier_score_loss(y_red_test, prob_pos, pos_label=y.max())\n",
    "        print(\"\\n\")\n",
    "        print(\"%s:\" % name)\n",
    "        print(\"\\tBrier: %1.3f\" % (clf_score))\n",
    "        print(\"\\tPrecision: %1.3f\" % precision_score(y_red_test, y_pred))\n",
    "        print(\"\\tRecall: %1.3f\" % recall_score(y_red_test, y_pred))\n",
    "        print(\"\\tF1: %1.3f\\n\" % f1_score(y_red_test, y_pred))\n",
    "        print(\"\\tcoefficients:\\n\" , clf.coef_)\n",
    "        \n",
    "        fraction_of_positives, mean_predicted_value = \\\n",
    "            calibration_curve(y_red_test, prob_pos, n_bins=10)\n",
    "\n",
    "        ax1.plot(mean_predicted_value, fraction_of_positives, \"s-\",\n",
    "                 label=\"%s (%1.3f)\" % (name, clf_score))\n",
    "\n",
    "        ax2.hist(prob_pos, range=(0, 1), bins=10, label=name,\n",
    "                 histtype=\"step\", lw=2)\n",
    "\n",
    "    ax1.set_ylabel(\"Fraction of positives\")\n",
    "    ax1.set_ylim([-0.05, 1.05])\n",
    "    ax1.legend(loc=\"lower right\")\n",
    "    ax1.set_title('Calibration plots  (reliability curve)')\n",
    "\n",
    "    ax2.set_xlabel(\"Mean predicted value\")\n",
    "    ax2.set_ylabel(\"Count\")\n",
    "    ax2.legend(loc=\"upper right\", ncol=2)\n",
    "\n",
    "    plt.tight_layout()\n",
    "\n",
    "# Plot calibration curve for Gaussian Naive Bayes\n",
    "plot_calibration_curve(GaussianNB(), \"Naive Bayes\", 1)\n",
    "\n",
    "\n",
    "\n",
    "\n",
    "plt.show()"
   ]
  },
  {
   "cell_type": "code",
   "execution_count": 86,
   "metadata": {},
   "outputs": [
    {
     "name": "stdout",
     "output_type": "stream",
     "text": [
      "\n",
      "\n",
      "Logistic, C=1 , penalty=L1:\n",
      "\tBrier: 0.137\n",
      "\tPrecision: 0.591\n",
      "\tRecall: 0.276\n",
      "\tF1: 0.376\n",
      "\n",
      "\tcoefficients:\n",
      " [[ 0.37473191 -0.38429651 -0.08810347  1.1866402  -0.24715141  0.18245513\n",
      "  -0.04894821 -1.47570437  0.42758338  0.21936041  0.42063988]]\n",
      "\n",
      "\n",
      "Logistic, C=0.1 , penalty=L1:\n",
      "\tBrier: 0.138\n",
      "\tPrecision: 0.582\n",
      "\tRecall: 0.257\n",
      "\tF1: 0.357\n",
      "\n",
      "\tcoefficients:\n",
      " [[ 0.20645006 -0.35511825 -0.08432126  0.68729818 -0.26445538  0.20551277\n",
      "  -0.10048744 -0.72093529  0.2908731   0.17657334  0.71203802]]\n",
      "\n",
      "\n",
      "Logistic, C=0.01 , penalty=L1:\n",
      "\tBrier: 0.146\n",
      "\tPrecision: 0.538\n",
      "\tRecall: 0.132\n",
      "\tF1: 0.212\n",
      "\n",
      "\tcoefficients:\n",
      " [[ 0.         -0.07884891  0.          0.          0.          0.\n",
      "   0.          0.          0.          0.          0.72174425]]\n",
      "\n",
      "\n",
      "Logistic, C=1 , penalty=L2:\n",
      "\tBrier: 0.137\n",
      "\tPrecision: 0.603\n",
      "\tRecall: 0.276\n",
      "\tF1: 0.378\n",
      "\n",
      "\tcoefficients:\n",
      " [[ 0.36566337 -0.3857137  -0.09242186  1.14773024 -0.25463895  0.19030743\n",
      "  -0.05939468 -1.40878541  0.42005975  0.21770485  0.4516811 ]]\n",
      "\n",
      "\n",
      "Logistic, C=0.1 , penalty=L2:\n",
      "\tBrier: 0.138\n",
      "\tPrecision: 0.582\n",
      "\tRecall: 0.257\n",
      "\tF1: 0.357\n",
      "\n",
      "\tcoefficients:\n",
      " [[ 0.20645006 -0.35511825 -0.08432126  0.68729818 -0.26445538  0.20551277\n",
      "  -0.10048744 -0.72093529  0.2908731   0.17657334  0.71203802]]\n",
      "\n",
      "\n",
      "Logistic, C=0.01 , penalty=L2:\n",
      "\tBrier: 0.141\n",
      "\tPrecision: 0.583\n",
      "\tRecall: 0.241\n",
      "\tF1: 0.341\n",
      "\n",
      "\tcoefficients:\n",
      " [[ 0.04583448 -0.20898843 -0.03552268  0.24515626 -0.19076929  0.15750001\n",
      "  -0.1028386  -0.26864241  0.14272421  0.11641483  0.62799414]]\n"
     ]
    },
    {
     "data": {
      "image/png": "[encoded data removed]",
      "text/plain": [
       "<Figure size 720x720 with 2 Axes>"
      ]
     },
     "metadata": {
      "needs_background": "light"
     },
     "output_type": "display_data"
    }
   ],
   "source": [
    "import matplotlib.pyplot as plt\n",
    "\n",
    "from sklearn import datasets\n",
    "from sklearn.naive_bayes import GaussianNB\n",
    "from sklearn.svm import LinearSVC\n",
    "from sklearn.linear_model import LogisticRegression\n",
    "from sklearn.metrics import (brier_score_loss, precision_score, recall_score,\n",
    "                             f1_score)\n",
    "from sklearn.calibration import CalibratedClassifierCV, calibration_curve\n",
    "from sklearn.model_selection import train_test_split\n",
    "\n",
    "\n",
    "# Create dataset of classification task with many redundant and few\n",
    "# informative features\n",
    "\n",
    "def plot_calibration_curve(est, name, fig_index):\n",
    "    \"\"\"Plot calibration curve for est w/o and with calibration. \"\"\"\n",
    "    # Calibrated with isotonic calibration\n",
    "    lr_C_P1 = LogisticRegression(C=0.01,penalty='l1',  solver='liblinear',multi_class='auto')\n",
    "\n",
    "    # Calibrated with sigmoid calibration\n",
    "    lr_C_1_p1 = LogisticRegression(C=0.1,penalty='l1',  solver='liblinear',multi_class='auto')\n",
    "\n",
    "    # Logistic regression with no calibration as baseline\n",
    "    lr_p1 = LogisticRegression(C=1.,penalty='l1',  solver='liblinear',multi_class='auto')\n",
    "\n",
    "    # Calibrated with isotonic calibration\n",
    "    lr_C_pl2 = LogisticRegression(C=0.01,penalty='l2', solver='liblinear',multi_class='auto') \n",
    "\n",
    "    # Calibrated with sigmoid calibration\n",
    "    lr_C_1_p1 = LogisticRegression(C=0.1,penalty='l2', solver='liblinear',multi_class='auto')\n",
    "\n",
    "    # Logistic regression with no calibration as baseline\n",
    "    lr_pl2 = LogisticRegression(C=1,penalty='l2', solver='liblinear',multi_class='auto')    \n",
    "    \n",
    "    \n",
    "    fig = plt.figure(fig_index, figsize=(10, 10))\n",
    "    ax1 = plt.subplot2grid((3, 1), (0, 0), rowspan=2)\n",
    "    ax2 = plt.subplot2grid((3, 1), (2, 0))\n",
    "\n",
    "    ax1.plot([0, 1], [0, 1], \"k:\", label=\"Perfectly calibrated\")\n",
    "    for clf, name in [(lr_p1,'Logistic, C=1 , penalty=L1'),\n",
    "                      (lr_C_1_p1,'Logistic, C=0.1 , penalty=L1'),\n",
    "                      (lr_C_P1, 'Logistic, C=0.01 , penalty=L1'),\n",
    "                      (lr_pl2, 'Logistic, C=1 , penalty=L2'),\n",
    "                      (lr_C_1_p1,  'Logistic, C=0.1 , penalty=L2'),\n",
    "                      (lr_C_pl2, 'Logistic, C=0.01 , penalty=L2'),]:\n",
    "        clf.fit(X_white_train, y_white_train)\n",
    "        y_pred_white = clf.predict(X_white_test)\n",
    "        if hasattr(clf, \"predict_proba\"):\n",
    "            prob_pos = clf.predict_proba(X_white_test)[:, 1]\n",
    "        else:  # use decision function\n",
    "            prob_pos = clf.decision_function(X_white_test)\n",
    "            prob_pos = \\\n",
    "                (prob_pos - prob_pos.min()) / (prob_pos.max() - prob_pos.min())\n",
    "\n",
    "        clf_score = brier_score_loss(y_white_test, prob_pos, pos_label=y.max())\n",
    "        print(\"\\n\")\n",
    "        print(\"%s:\" % name)\n",
    "        print(\"\\tBrier: %1.3f\" % (clf_score))\n",
    "        print(\"\\tPrecision: %1.3f\" % precision_score(y_white_test, y_pred_white))\n",
    "        print(\"\\tRecall: %1.3f\" % recall_score(y_white_test, y_pred_white))\n",
    "        print(\"\\tF1: %1.3f\\n\" % f1_score(y_white_test, y_pred_white))\n",
    "        print(\"\\tcoefficients:\\n\" , clf.coef_)\n",
    "        \n",
    "        \n",
    "        fraction_of_positives, mean_predicted_value = \\\n",
    "            calibration_curve(y_white_test, prob_pos, n_bins=10)\n",
    "\n",
    "        ax1.plot(mean_predicted_value, fraction_of_positives, \"s-\",\n",
    "                 label=\"%s (%1.3f)\" % (name, clf_score))\n",
    "\n",
    "        ax2.hist(prob_pos, range=(0, 1), bins=10, label=name,\n",
    "                 histtype=\"step\", lw=2)\n",
    "\n",
    "    ax1.set_ylabel(\"Fraction of positives\")\n",
    "    ax1.set_ylim([-0.05, 1.05])\n",
    "    ax1.legend(loc=\"lower right\")\n",
    "    ax1.set_title('Calibration plots  (reliability curve)')\n",
    "\n",
    "    ax2.set_xlabel(\"Mean predicted value\")\n",
    "    ax2.set_ylabel(\"Count\")\n",
    "    ax2.legend(loc=\"upper right\", ncol=2)\n",
    "\n",
    "    plt.tight_layout()\n",
    "\n",
    "# Plot calibration curve for Gaussian Naive Bayes\n",
    "plot_calibration_curve(GaussianNB(), \"Naive Bayes\", 1)\n",
    "\n",
    "\n",
    "plt.show()"
   ]
  },
  {
   "cell_type": "code",
   "execution_count": null,
   "metadata": {},
   "outputs": [],
   "source": []
  }
 ],
 "metadata": {
  "kernelspec": {
   "display_name": "Python 3",
   "language": "python",
   "name": "python3"
  },
  "language_info": {
   "codemirror_mode": {
    "name": "ipython",
    "version": 3
   },
   "file_extension": ".py",
   "mimetype": "text/x-python",
   "name": "python",
   "nbconvert_exporter": "python",
   "pygments_lexer": "ipython3",
   "version": "3.7.1"
  }
 },
 "nbformat": 4,
 "nbformat_minor": 1
}
